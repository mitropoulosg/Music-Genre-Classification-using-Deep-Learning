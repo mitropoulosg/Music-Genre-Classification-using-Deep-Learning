{
  "cells": [
    {
      "cell_type": "markdown",
      "metadata": {
        "id": "EMfdIFwCI_OU"
      },
      "source": [
        "# <center> **Machine Learning**\n",
        "\n",
        "\n",
        "---\n",
        "\n",
        "\n",
        "# <center> PROJECT 2 2024\n"
        
      ]
    },
    {
      "cell_type": "markdown",
      "metadata": {
        "id": "yIFp7rQqaO65"
      },
      "source": [
        "Θα χρησιμοποιήσουμε νευρωνικά δίκτυα για να προβλέψουμε είδη μουσικής από σύντομα μουσικά κλιπ, το καθένα από τα οποία διαρκεί μόλις 1 δευτερόλεπτο. Στόχος μας είναι να χαρακτηρίσουμε αυτά τα κλιπ ως κλασικά, ποπ, ροκ ή μπλουζ. Τροφοδοτούμε MFCCs σε Feedforward Neural Networks και mel spectrograms σε Convolutional Neural Networks για να κάνουμε αυτές τις προβλέψεις."
      ]
    },
    {
      "cell_type": "code",
      "execution_count": null,
      "metadata": {
        "colab": {
          "base_uri": "https://localhost:8080/"
        },
        "id": "5C6bJVlb6Oks",
        "outputId": "7a5f1e77-86f6-4c77-e004-b2f3a4cb7dba"
      },
      "outputs": [
        {
          "name": "stdout",
          "output_type": "stream",
          "text": [
            "Mounted at /content/gdrive\n"
          ]
        }
      ],
      "source": [
        "from google.colab import drive\n",
        "drive.mount('/content/gdrive')\n",
        "\n",
        "import torch.nn.functional as F\n",
        "import random\n",
        "import librosa.display\n",
        "import numpy as np\n",
        "import torch\n",
        "import matplotlib.pyplot as plt\n",
        "from torch.utils.data import DataLoader, TensorDataset\n",
        "import torch.nn as nn\n",
        "from sklearn.metrics import f1_score,confusion_matrix\n",
        "import time\n",
        "import os\n",
        "os.environ[\"CUBLAS_WORKSPACE_CONFIG\"]=\":4096:8\""
      ]
    },
    {
      "cell_type": "markdown",
      "metadata": {
        "id": "6IZ1n28k3ssq"
      },
      "source": [
        "# **Question 1:**\n",
        "---\n",
        "**Step 1: Load data (mfccs)**"
      ]
    },
    {
      "cell_type": "code",
      "execution_count": null,
      "metadata": {
        "id": "SqDDKMeb73ee"
      },
      "outputs": [],
      "source": [
        "\n",
        "#device = 'cpu'\n",
        "# Mapping labels to integers\n",
        "labels_map = {\n",
        "    \"hiphop\": 2,\n",
        "    \"blues\": 0,\n",
        "    \"classical\": 1,\n",
        "    \"rock_metal_hardrock\": 3,\n",
        "}\n",
        "\n",
        "#Convert labels from strings to ints.\n",
        "def string_to_int(string_labels):\n",
        "    return [labels_map[label] for label in string_labels]\n",
        "\n",
        "trainX = np.load('/content/gdrive/MyDrive/ml/music_genre_data_di/train/mfccs/X.npy')\n",
        "testX = np.load('/content/gdrive/MyDrive/ml/music_genre_data_di/test/mfccs/X.npy')\n",
        "valX = np.load('/content/gdrive/MyDrive/ml/music_genre_data_di/val/mfccs/X.npy')\n",
        "\n",
        "string_labels = np.load('/content/gdrive/MyDrive/ml/music_genre_data_di/train/mfccs/labels.npy')\n",
        "trainL = string_to_int(string_labels)\n",
        "string_labels = np.load('/content/gdrive/MyDrive/ml/music_genre_data_di/test/mfccs/labels.npy')\n",
        "testL = string_to_int(string_labels)\n",
        "string_labels = np.load('/content/gdrive/MyDrive/ml/music_genre_data_di/val/mfccs/labels.npy')\n",
        "valL = string_to_int(string_labels)\n",
        "\n",
        "\n",
        "# Prepare DataLoaders\n",
        "train = TensorDataset(torch.tensor(trainX), torch.tensor(trainL))\n",
        "test = TensorDataset(torch.tensor(testX), torch.tensor(testL))\n",
        "val = TensorDataset(torch.tensor(valX), torch.tensor(valL))\n",
        "\n",
        "#loading datasets to dataloaders.\n",
        "train_dataloader = DataLoader(train, batch_size=16, shuffle=True)\n",
        "test_dataloader = DataLoader(test, batch_size=16, shuffle=False)\n",
        "val_dataloader = DataLoader(val, batch_size=16, shuffle=True)"
      ]
    },
    {
      "cell_type": "markdown",
      "metadata": {
        "id": "qjsRKBHy33L0"
      },
      "source": [
        "**Step 2: Feedforward Neural Network**\n",
        "\n",
        "Ορίζουμε ένα Feedforward Neural Network, χρησιμοποιώντας 4 γραμμικά επίπεδα."
      ]
    },
    {
      "cell_type": "code",
      "execution_count": null,
      "metadata": {
        "id": "32YXpyucRto_"
      },
      "outputs": [],
      "source": [
        "class NeuralNetwork(nn.Module): ##NeuralNetwork iS A subclass of nn.module\n",
        "    def __init__(self):\n",
        "        super(NeuralNetwork, self).__init__() ## call the constructor of super\n",
        "        self.flatten = nn.Flatten()\n",
        "        ## image 26 --> 126 --> 32 --> 4\n",
        "        self.linear_stack = nn.Sequential(\n",
        "            nn.Linear(26, 128),  ##torch.nn.Linear(in_features, out_features) 26-->128\n",
        "            nn.Linear(128, 32),    ## 128-->32\n",
        "            nn.Linear(32, 4),     ##32 -->4\n",
        "        )\n",
        "\n",
        "    ## Every nn.Module subclass implements the operations on input data in the forward method.\n",
        "    def forward(self, x):\n",
        "        x = self.flatten(x)\n",
        "        logits = self.linear_stack(x)\n",
        "        return logits\n"
      ]
    },
    {
      "cell_type": "markdown",
      "metadata": {
        "id": "z_N1y-i43-Ug"
      },
      "source": [
        "**Step 3: Train function**\n",
        "\n",
        "Ορίζουμε μια συνάρτηση εκπαίδευσης η οποία, δεδομένων των παραμέτρων για την εκπαίδευση ενός μοντέλου, εκτελεί τη διαδικασία εκπαίδευσης."
      ]
    },
    {
      "cell_type": "code",
      "execution_count": null,
      "metadata": {
        "id": "bj4tXlfgX1qu"
      },
      "outputs": [],
      "source": [
        "def train_loop(epochs,dataloader, model, loss_fn, optimizer,device,validation_check=None,best_name=None,print_output=None):\n",
        "  size = len(dataloader.dataset)\n",
        "  best_f1_score = -1\n",
        "  for num_epoch in range(epochs):\n",
        "    losses = []\n",
        "    model.train()  # Ensure model is in training mod\n",
        "    for X, y in dataloader:\n",
        "\n",
        "        # if using gpu dont forget to move the data there\n",
        "        X = X.to(device, dtype=torch.float32)\n",
        "        y = y.to(device)\n",
        "\n",
        "        # Compute prediction and loss\n",
        "        pred = model(X)\n",
        "        loss = loss_fn(pred, y)\n",
        "\n",
        "        losses.append(loss.item())\n",
        "        # Backpropagation\n",
        "        optimizer.zero_grad()\n",
        "        loss.backward()\n",
        "        optimizer.step()\n",
        "\n",
        "#find best model\n",
        "    if (validation_check) :\n",
        "        _,_,_, _, f1,_ = test_loop(val_dataloader, model, loss_fn,device)\n",
        "        if (best_f1_score < f1) :\n",
        "          best_f1_score = f1\n",
        "          torch.save(model.state_dict(), best_name)\n",
        "\n",
        "    if(print_output):\n",
        "      print(f\"Epoch {num_epoch+1}\\n-------------------------------\")\n",
        "      print(\"Training Loss:\", np.mean(losses))\n",
        "\n",
        "  print(\"Done!\")\n",
        "  return model\n"
      ]
    },
    {
      "cell_type": "markdown",
      "metadata": {
        "id": "G1NZV5B74Axi"
      },
      "source": [
        "**Step 4: Test function**\n",
        "\n",
        "Ορίζουμε μια συνάρτηση η οποία, δεδομένου ενός dataloader, και ενός μοντέλου, αξιολογεί τα δεδομένα αυτού του dataloader, χρησιμοποιώντας τη δεδομένη συνάρτηση απώλειας και τις προβλέψεις που δημιουργούνται από το μοντέλο."
      ]
    },
    {
      "cell_type": "code",
      "execution_count": null,
      "metadata": {
        "id": "wQCzYIV0cYuS"
      },
      "outputs": [],
      "source": [
        "def test_loop(dataloader, model, loss_fn,device):\n",
        "    size = len(dataloader.dataset)\n",
        "    test_loss, correct = 0, 0\n",
        "    y_true = []\n",
        "    y_pred = []\n",
        "\n",
        "    model.eval()  # Set the model to evaluation mode\n",
        "    # the no_grad command tells PyTorch that we dont want to accumulate gradients for these operations\n",
        "    with torch.no_grad():\n",
        "        for X, y in dataloader:\n",
        "\n",
        "            # if using gpu dont forget to move the data there\n",
        "            X = X.to(device, dtype=torch.float32)\n",
        "            y = y.to(device)\n",
        "\n",
        "            pred = model(X)\n",
        "            test_loss += loss_fn(pred, y).item()\n",
        "            correct += (pred.argmax(1) == y).type(torch.float).sum().item()\n",
        "\n",
        "            y_pred.extend((pred.argmax(1)).cpu().numpy())\n",
        "            y_true.extend(y.cpu().numpy())\n",
        "    test_loss /= size\n",
        "    correct /= size\n",
        "    f1 = f1_score(y_true, y_pred, average = 'macro')\n",
        "    conf = confusion_matrix(y_true, y_pred, labels=[0,1,2,3])\n",
        "    return y_true,y_pred,test_loss, correct, f1, conf\n"
      ]
    },
    {
      "cell_type": "markdown",
      "metadata": {
        "id": "O-PhYsrn4FUk"
      },
      "source": [
        "**Step 5-6: Train FNN with CPU-GPU**"
      ]
    },
    {
      "cell_type": "code",
      "execution_count": null,
      "metadata": {
        "colab": {
          "base_uri": "https://localhost:8080/"
        },
        "id": "kz_VngH5dx_H",
        "outputId": "c85c3fa5-6ec9-4683-87c5-836d7262909c"
      },
      "outputs": [
        {
          "name": "stdout",
          "output_type": "stream",
          "text": [
            "Epoch 1\n",
            "-------------------------------\n",
            "Training Loss: 1.3926198655366897\n",
            "Epoch 2\n",
            "-------------------------------\n",
            "Training Loss: 1.357144564986229\n",
            "Epoch 3\n",
            "-------------------------------\n",
            "Training Loss: 1.3258423322439195\n",
            "Epoch 4\n",
            "-------------------------------\n",
            "Training Loss: 1.2990375125408173\n",
            "Epoch 5\n",
            "-------------------------------\n",
            "Training Loss: 1.270269546508789\n",
            "Epoch 6\n",
            "-------------------------------\n",
            "Training Loss: 1.2410789549350738\n",
            "Epoch 7\n",
            "-------------------------------\n",
            "Training Loss: 1.211320920586586\n",
            "Epoch 8\n",
            "-------------------------------\n",
            "Training Loss: 1.1817911314964293\n",
            "Epoch 9\n",
            "-------------------------------\n",
            "Training Loss: 1.1574318125844\n",
            "Epoch 10\n",
            "-------------------------------\n",
            "Training Loss: 1.1328363427519799\n",
            "Epoch 11\n",
            "-------------------------------\n",
            "Training Loss: 1.109114202260971\n",
            "Epoch 12\n",
            "-------------------------------\n",
            "Training Loss: 1.0915639287233352\n",
            "Epoch 13\n",
            "-------------------------------\n",
            "Training Loss: 1.0715258783102035\n",
            "Epoch 14\n",
            "-------------------------------\n",
            "Training Loss: 1.0601158046722412\n",
            "Epoch 15\n",
            "-------------------------------\n",
            "Training Loss: 1.0463166007399558\n",
            "Epoch 16\n",
            "-------------------------------\n",
            "Training Loss: 1.027715347111225\n",
            "Epoch 17\n",
            "-------------------------------\n",
            "Training Loss: 1.017215534746647\n",
            "Epoch 18\n",
            "-------------------------------\n",
            "Training Loss: 1.0091898411512374\n",
            "Epoch 19\n",
            "-------------------------------\n",
            "Training Loss: 0.998049846291542\n",
            "Epoch 20\n",
            "-------------------------------\n",
            "Training Loss: 0.9922268733382225\n",
            "Epoch 21\n",
            "-------------------------------\n",
            "Training Loss: 0.9784051299095153\n",
            "Epoch 22\n",
            "-------------------------------\n",
            "Training Loss: 0.971658493578434\n",
            "Epoch 23\n",
            "-------------------------------\n",
            "Training Loss: 0.9727637758851051\n",
            "Epoch 24\n",
            "-------------------------------\n",
            "Training Loss: 0.9646380877494812\n",
            "Epoch 25\n",
            "-------------------------------\n",
            "Training Loss: 0.9547008225321769\n",
            "Epoch 26\n",
            "-------------------------------\n",
            "Training Loss: 0.9546264231204986\n",
            "Epoch 27\n",
            "-------------------------------\n",
            "Training Loss: 0.9459612837433815\n",
            "Epoch 28\n",
            "-------------------------------\n",
            "Training Loss: 0.9472037035226822\n",
            "Epoch 29\n",
            "-------------------------------\n",
            "Training Loss: 0.9352300578355789\n",
            "Epoch 30\n",
            "-------------------------------\n",
            "Training Loss: 0.9383509042859077\n",
            "Done!\n",
            "Epoch 1\n",
            "-------------------------------\n",
            "Training Loss: 1.3953648346662522\n",
            "Epoch 2\n",
            "-------------------------------\n",
            "Training Loss: 1.3633620375394822\n",
            "Epoch 3\n",
            "-------------------------------\n",
            "Training Loss: 1.3370383703708648\n",
            "Epoch 4\n",
            "-------------------------------\n",
            "Training Loss: 1.3144277554750443\n",
            "Epoch 5\n",
            "-------------------------------\n",
            "Training Loss: 1.2882207787036897\n",
            "Epoch 6\n",
            "-------------------------------\n",
            "Training Loss: 1.2614970123767852\n",
            "Epoch 7\n",
            "-------------------------------\n",
            "Training Loss: 1.230295280814171\n",
            "Epoch 8\n",
            "-------------------------------\n",
            "Training Loss: 1.1988346356153488\n",
            "Epoch 9\n",
            "-------------------------------\n",
            "Training Loss: 1.1726321956515313\n",
            "Epoch 10\n",
            "-------------------------------\n",
            "Training Loss: 1.1397505828738212\n",
            "Epoch 11\n",
            "-------------------------------\n",
            "Training Loss: 1.1129467862844467\n",
            "Epoch 12\n",
            "-------------------------------\n",
            "Training Loss: 1.0924899217486381\n",
            "Epoch 13\n",
            "-------------------------------\n",
            "Training Loss: 1.0656329348683358\n",
            "Epoch 14\n",
            "-------------------------------\n",
            "Training Loss: 1.0538006982207297\n",
            "Epoch 15\n",
            "-------------------------------\n",
            "Training Loss: 1.0293868845701217\n",
            "Epoch 16\n",
            "-------------------------------\n",
            "Training Loss: 1.0110957249999046\n",
            "Epoch 17\n",
            "-------------------------------\n",
            "Training Loss: 1.0078310471773149\n",
            "Epoch 18\n",
            "-------------------------------\n",
            "Training Loss: 0.9940151718258857\n",
            "Epoch 19\n",
            "-------------------------------\n",
            "Training Loss: 0.9856547465920449\n",
            "Epoch 20\n",
            "-------------------------------\n",
            "Training Loss: 0.9773194923996925\n",
            "Epoch 21\n",
            "-------------------------------\n",
            "Training Loss: 0.9753089731931687\n",
            "Epoch 22\n",
            "-------------------------------\n",
            "Training Loss: 0.9588647192716598\n",
            "Epoch 23\n",
            "-------------------------------\n",
            "Training Loss: 0.9660856226086616\n",
            "Epoch 24\n",
            "-------------------------------\n",
            "Training Loss: 0.9472746792435646\n",
            "Epoch 25\n",
            "-------------------------------\n",
            "Training Loss: 0.9457309463620186\n",
            "Epoch 26\n",
            "-------------------------------\n",
            "Training Loss: 0.9386947944760322\n",
            "Epoch 27\n",
            "-------------------------------\n",
            "Training Loss: 0.9411352416872978\n",
            "Epoch 28\n",
            "-------------------------------\n",
            "Training Loss: 0.9337070092558861\n",
            "Epoch 29\n",
            "-------------------------------\n",
            "Training Loss: 0.9394342604279519\n",
            "Epoch 30\n",
            "-------------------------------\n",
            "Training Loss: 0.9233539807796478\n",
            "Done!\n",
            "\n",
            "----Evaluation:----\n",
            "\n",
            "CPU Time: 7.62 sec\n",
            "GPU Time: 15.82 sec\n",
            "Time Difference: -8.20 sec\n",
            "\n",
            "CPU Test Error: \n",
            " Accuracy: 60.8%, Avg loss: 0.060797, macro F1 score: 55.35%, \n",
            "confusion matrix: \n",
            "[[ 23  15 112 174]\n",
            " [ 24 204  21  48]\n",
            " [ 10  11 284  51]\n",
            " [  9  17  47 326]] \n",
            "\n",
            "GPU Test Error: \n",
            " Accuracy: 60.4%, Avg loss: 0.061061, macro F1 score: 60.05%, \n",
            "confusion matrix: \n",
            "[[104  10 128  82]\n",
            " [ 77 190  18  12]\n",
            " [ 39   8 299  10]\n",
            " [ 88   9  64 238]] \n",
            "\n"
          ]
        }
      ],
      "source": [
        "# Helper function to measure execution time\n",
        "def measure_time(device, train_dataloader, test_dataloader):\n",
        "    num_epochs=30\n",
        "    model = NeuralNetwork().to(device)\n",
        "    loss_fn = nn.CrossEntropyLoss()\n",
        "    optimizer = torch.optim.SGD(model.parameters(), lr=0.002)\n",
        "\n",
        "    start = time.time()\n",
        "    model = train_loop(num_epochs, train_dataloader, model, loss_fn, optimizer,device,print_output=True)\n",
        "    _,_,test_loss, accuracy, f1, conf = test_loop(test_dataloader, model, loss_fn,device)\n",
        "    end = time.time()\n",
        "\n",
        "    return end - start, test_loss, accuracy, f1, conf\n",
        "\n",
        "# Measure time on CPU\n",
        "cpu_device = torch.device('cpu')\n",
        "cpu_time, cpu_test_loss, cpu_accuracy, cpu_f1, cpu_conf = measure_time(cpu_device, train_dataloader, test_dataloader)\n",
        "\n",
        "# Measure time on GPU\n",
        "gpu_device = torch.device('cuda' if torch.cuda.is_available() else 'cpu')\n",
        "gpu_time, gpu_test_loss, gpu_accuracy, gpu_f1, gpu_conf = measure_time(gpu_device, train_dataloader, test_dataloader)\n",
        "\n",
        "# Print results\n",
        "print(\"\\n----Evaluation:----\\n\")\n",
        "print(f\"CPU Time: {cpu_time:.2f} sec\")\n",
        "print(f\"GPU Time: {gpu_time:.2f} sec\")\n",
        "print(f\"Time Difference: {cpu_time - gpu_time:.2f} sec\")\n",
        "print(f\"\\nCPU Test Error: \\n Accuracy: {(cpu_accuracy * 100):>0.1f}%, Avg loss: {cpu_test_loss:>8f}, macro F1 score: {cpu_f1 * 100:.2f}%, \\nconfusion matrix: \\n{cpu_conf} \\n\")\n",
        "print(f\"GPU Test Error: \\n Accuracy: {(gpu_accuracy * 100):>0.1f}%, Avg loss: {gpu_test_loss:>8f}, macro F1 score: {gpu_f1 * 100:.2f}%, \\nconfusion matrix: \\n{gpu_conf} \\n\")"
      ]
    },
    {
      "cell_type": "markdown",
      "source": [
        "Βλέπουμε πως στο συγκεκριμένο σημείο τα score ειναι πάνω κάτω το ίδιο, ωστόσο η εκτέλεση με GPU είναι λίγο πιο αργή."
      ],
      "metadata": {
        "id": "6tGC8VqpXuAf"
      }
    },
    {
      "cell_type": "markdown",
      "metadata": {
        "id": "FYvF5ayJ4N9E"
      },
      "source": [
        "**Step 7: Model Selection**\n",
        "\n",
        "Τώρα θα εκπαιδεύσουμε το ίδιο νευρωνικό δίκτυο, αλλά θα αξιολογήσουμε το μοντέλο που παράγεται μετά από κάθε εποχή στο σύνολο επικύρωσης και θα αποθηκεύσουμε το καλύτερο για να το αξιολογήσουμε στο σύνολο δεδομένων δοκιμής."
      ]
    },
    {
      "cell_type": "code",
      "execution_count": null,
      "metadata": {
        "id": "VIftedFZj9tt"
      },
      "outputs": [],
      "source": [
        "# define number of epochs\n",
        "num_epochs = 30\n",
        "# define the loss function\n",
        "loss_fn = nn.CrossEntropyLoss()\n",
        "# define the learning rate\n",
        "learning_rate =  0.002"
      ]
    },
    {
      "cell_type": "code",
      "execution_count": null,
      "metadata": {
        "colab": {
          "base_uri": "https://localhost:8080/"
        },
        "id": "VX1H4fwvGld5",
        "outputId": "406c0fa7-57a9-44a7-c488-bade57c7972b"
      },
      "outputs": [
        {
          "name": "stdout",
          "output_type": "stream",
          "text": [
            "Epoch 1\n",
            "-------------------------------\n",
            "Training Loss: 1.396993743777275\n",
            "Epoch 2\n",
            "-------------------------------\n",
            "Training Loss: 1.3595903241634368\n",
            "Epoch 3\n",
            "-------------------------------\n",
            "Training Loss: 1.3405760878324509\n",
            "Epoch 4\n",
            "-------------------------------\n",
            "Training Loss: 1.3136465007066727\n",
            "Epoch 5\n",
            "-------------------------------\n",
            "Training Loss: 1.2871741682291031\n",
            "Epoch 6\n",
            "-------------------------------\n",
            "Training Loss: 1.2679738968610763\n",
            "Epoch 7\n",
            "-------------------------------\n",
            "Training Loss: 1.2378029507398605\n",
            "Epoch 8\n",
            "-------------------------------\n",
            "Training Loss: 1.208441013097763\n",
            "Epoch 9\n",
            "-------------------------------\n",
            "Training Loss: 1.1777157816290855\n",
            "Epoch 10\n",
            "-------------------------------\n",
            "Training Loss: 1.1495566669106483\n",
            "Epoch 11\n",
            "-------------------------------\n",
            "Training Loss: 1.1233208256959915\n",
            "Epoch 12\n",
            "-------------------------------\n",
            "Training Loss: 1.098085528612137\n",
            "Epoch 13\n",
            "-------------------------------\n",
            "Training Loss: 1.0749767625331879\n",
            "Epoch 14\n",
            "-------------------------------\n",
            "Training Loss: 1.0529828649759292\n",
            "Epoch 15\n",
            "-------------------------------\n",
            "Training Loss: 1.0356403893232347\n",
            "Epoch 16\n",
            "-------------------------------\n",
            "Training Loss: 1.0183888372778893\n",
            "Epoch 17\n",
            "-------------------------------\n",
            "Training Loss: 1.0018594494462014\n",
            "Epoch 18\n",
            "-------------------------------\n",
            "Training Loss: 0.9927916091680526\n",
            "Epoch 19\n",
            "-------------------------------\n",
            "Training Loss: 0.9806091099977493\n",
            "Epoch 20\n",
            "-------------------------------\n",
            "Training Loss: 0.9739384773373604\n",
            "Epoch 21\n",
            "-------------------------------\n",
            "Training Loss: 0.9613026908040047\n",
            "Epoch 22\n",
            "-------------------------------\n",
            "Training Loss: 0.9549929645657539\n",
            "Epoch 23\n",
            "-------------------------------\n",
            "Training Loss: 0.9553158822655677\n",
            "Epoch 24\n",
            "-------------------------------\n",
            "Training Loss: 0.9521150547266006\n",
            "Epoch 25\n",
            "-------------------------------\n",
            "Training Loss: 0.9381838726997376\n",
            "Epoch 26\n",
            "-------------------------------\n",
            "Training Loss: 0.9437750241160393\n",
            "Epoch 27\n",
            "-------------------------------\n",
            "Training Loss: 0.9422995339334012\n",
            "Epoch 28\n",
            "-------------------------------\n",
            "Training Loss: 0.9329174163937569\n",
            "Epoch 29\n",
            "-------------------------------\n",
            "Training Loss: 0.9330304992198944\n",
            "Epoch 30\n",
            "-------------------------------\n",
            "Training Loss: 0.9328895147144795\n",
            "Done!\n",
            "\n",
            "----Evaluation:----\n",
            "\n",
            "Test Error: \n",
            " Accuracy: 61.4%, Avg loss: 0.061279, macro F1 score: 60.57578464488991%, \n",
            "confusion matrix: \n",
            "[[117  54  80  73]\n",
            " [ 20 266   6   5]\n",
            " [ 80  26 239  11]\n",
            " [ 67  64  45 223]] \n",
            "\n"
          ]
        }
      ],
      "source": [
        "device = 'cpu'\n",
        "model = NeuralNetwork().to(device)  ##assing model to device\n",
        "\n",
        "# define the optimizer object\n",
        "optimizer = torch.optim.SGD(model.parameters(), lr = learning_rate)\n",
        "\n",
        "model = train_loop(num_epochs,train_dataloader, model, loss_fn, optimizer,device,validation_check=True,best_name='best_fnn_model',print_output=True)\n",
        "model = NeuralNetwork()\n",
        "model.load_state_dict(torch.load('best_fnn_model'))\n",
        "model = model.to(device)\n",
        "(_,_,test_loss, correct, f1, conf) = test_loop(test_dataloader, model, loss_fn,device)\n",
        "\n",
        "# Print results\n",
        "print(\"\\n----Evaluation:----\\n\")\n",
        "print(f\"Test Error: \\n Accuracy: {(100*correct):>0.1f}%, Avg loss: {test_loss:>8f}, macro F1 score: {f1 * 100}%, \\nconfusion matrix: \\n{conf} \\n\")\n"
      ]
    },
    {
      "cell_type": "markdown",
      "metadata": {
        "id": "cDst3L8B4QSv"
      },
      "source": [
        "# **Question 2:**\n",
        "---\n",
        "**Step 1: Load data (Spectograms)**"
      ]
    },
    {
      "cell_type": "code",
      "execution_count": null,
      "metadata": {
        "colab": {
          "base_uri": "https://localhost:8080/",
          "height": 1000
        },
        "id": "6gM3nV_mBqUi",
        "outputId": "4a09c32a-3e77-4053-9d20-a287e21091a8"
      },
      "outputs": [
        {
          "data": {
            "image/png": "[encoded data removed]",
            "text/plain": [
              "<Figure size 1000x400 with 2 Axes>"
            ]
          },
          "metadata": {},
          "output_type": "display_data"
        },
        {
          "data": {
            "image/png": "[encoded data removed]",
            "text/plain": [
              "<Figure size 1000x400 with 2 Axes>"
            ]
          },
          "metadata": {},
          "output_type": "display_data"
        },
        {
          "data": {
            "image/png": "[encoded data removed]",
            "text/plain": [
              "<Figure size 1000x400 with 2 Axes>"
            ]
          },
          "metadata": {},
          "output_type": "display_data"
        },
        {
          "data": {
            "image/png": "[encoded data removed]",
            "text/plain": [
              "<Figure size 1000x400 with 2 Axes>"
            ]
          },
          "metadata": {},
          "output_type": "display_data"
        }
      ],
      "source": [
        "\n",
        "#device = 'cpu'\n",
        "# Mapping labels to integers\n",
        "labels_map = {\n",
        "    \"hiphop\": 2,\n",
        "    \"blues\": 0,\n",
        "    \"classical\": 1,\n",
        "    \"rock_metal_hardrock\": 3,\n",
        "}\n",
        "\n",
        "def string_to_int(string_labels):\n",
        "    return [labels_map[label] for label in string_labels]\n",
        "\n",
        "trainX = np.load('/content/gdrive/MyDrive/ml/music_genre_data_di/train/melgrams/X.npy')\n",
        "testX = np.load('/content/gdrive/MyDrive/ml/music_genre_data_di/test/melgrams/X.npy')\n",
        "valX = np.load('/content/gdrive/MyDrive/ml/music_genre_data_di/val/melgrams/X.npy')\n",
        "\n",
        "string_labels = np.load('/content/gdrive/MyDrive/ml/music_genre_data_di/train/melgrams/labels.npy')\n",
        "trainL = string_to_int(string_labels)\n",
        "\n",
        "string_labels = np.load('/content/gdrive/MyDrive/ml/music_genre_data_di/test/melgrams/labels.npy')\n",
        "testL = string_to_int(string_labels)\n",
        "\n",
        "string_labels = np.load('/content/gdrive/MyDrive/ml/music_genre_data_di/val/melgrams/labels.npy')\n",
        "valL = string_to_int(string_labels)\n",
        "\n",
        "\n",
        "\n",
        "# Prepare DataLoaders\n",
        "train = TensorDataset(torch.tensor(trainX), torch.tensor(trainL))\n",
        "test = TensorDataset(torch.tensor(testX), torch.tensor(testL))\n",
        "val = TensorDataset(torch.tensor(valX), torch.tensor(valL))\n",
        "\n",
        "\n",
        "train_dataloader = DataLoader(train, batch_size=16, shuffle=True)\n",
        "test_dataloader = DataLoader(test, batch_size=16, shuffle=False)\n",
        "val_dataloader = DataLoader(val, batch_size=16, shuffle=True)\n",
        "\n",
        "# Define function to plot a mel-spectrogram with class label\n",
        "def plot_melgram(melgram, class_name):\n",
        "    plt.figure(figsize=(10, 4))\n",
        "    librosa.display.specshow(melgram, sr=22050, x_axis='time', y_axis='mel')\n",
        "    plt.colorbar(format='%+2.0f dB')\n",
        "    plt.title(f'Mel-spectrogram of {class_name}')\n",
        "    plt.xlabel('Time')\n",
        "    plt.ylabel('Frequency')\n",
        "    plt.show()\n",
        "\n",
        "# Plot a random melgram from each class\n",
        "for class_name,class_idx  in labels_map.items():\n",
        "    flag = False\n",
        "    while not flag:\n",
        "        sample_idx = random.randint(0, len(trainX) - 1)\n",
        "        if trainL[sample_idx] == class_idx:\n",
        "            flag = True\n",
        "            plot_melgram(trainX[sample_idx], class_name)"
      ]
    },
    {
      "cell_type": "markdown",
      "metadata": {
        "id": "t4M4S-F84bRQ"
      },
      "source": [
        "**Step 2: Convolutional Neural Network**\n",
        "\n",
        "Ορίζουμε ένα συνελικτικό νευρωνικό δίκτυο με 5 κανάλια, η έξοδος του οποίου δίνεται ως είσοδος σε ένα πλήρως συνδεδεμένο νευρωνικό δίκτυο που αποτελείται από 4 κρυφά επίπεδα."
      ]
    },
    {
      "cell_type": "code",
      "execution_count": null,
      "metadata": {
        "id": "CV-zpsTqWcXA"
      },
      "outputs": [],
      "source": [
        "\n",
        "import torch.nn as nn\n",
        "\n",
        "class Convolutional_Neural_Network(nn.Module):\n",
        "  def __init__(self):\n",
        "    super().__init__()\n",
        "    # in channels, out_channels, kernel_size\n",
        "    self.conv1 = nn.Conv2d(1, 16, 5)  ##in out kernel\n",
        "    self.conv2 = nn.Conv2d(16, 32, 5)\n",
        "    self.conv3 = nn.Conv2d(32, 64, 5)\n",
        "    self.conv4 = nn.Conv2d(64, 128, 5)\n",
        "\n",
        "    self.flatten = nn.Flatten()\n",
        "\n",
        "    self.linear_stack = nn.Sequential(\n",
        "            nn.Linear(71680, 1024),  ##torch.nn.Linear(in_features, out_features) 71680-->1024\n",
        "            nn.Linear(1024, 256),    ## 1024-->256\n",
        "            nn.Linear(256, 32),   ##256 -->32\n",
        "            nn.Linear(32, 4),     ##32 -->4\n",
        "        )\n",
        "\n",
        "  def forward(self, x):\n",
        "      x = torch.unsqueeze(x,1)\n",
        "\n",
        "      x = self.conv1(x)\n",
        "      x = self.conv2(x)\n",
        "      x = self.conv3(x)\n",
        "      x = self.conv4(x)\n",
        "\n",
        "      x = self.flatten(x)\n",
        "\n",
        "      x = self.linear_stack(x)\n",
        "\n",
        "      return x"
      ]
    },
    {
      "cell_type": "markdown",
      "metadata": {
        "id": "wbX7E2-K4gKr"
      },
      "source": [
        "**Step 3: Train CNN**"
      ]
    },
    {
      "cell_type": "code",
      "execution_count": null,
      "metadata": {
        "colab": {
          "base_uri": "https://localhost:8080/"
        },
        "id": "4w2gBJp4YvKV",
        "outputId": "36d4ab6d-05c7-4d5e-b6e9-1b4e925fe177"
      },
      "outputs": [
        {
          "name": "stdout",
          "output_type": "stream",
          "text": [
            "Epoch 1\n",
            "-------------------------------\n",
            "Training Loss: nan\n",
            "Epoch 2\n",
            "-------------------------------\n",
            "Training Loss: nan\n",
            "Epoch 3\n",
            "-------------------------------\n",
            "Training Loss: nan\n",
            "Epoch 4\n",
            "-------------------------------\n",
            "Training Loss: nan\n",
            "Epoch 5\n",
            "-------------------------------\n",
            "Training Loss: nan\n",
            "Epoch 6\n",
            "-------------------------------\n",
            "Training Loss: nan\n",
            "Epoch 7\n",
            "-------------------------------\n",
            "Training Loss: nan\n",
            "Epoch 8\n",
            "-------------------------------\n",
            "Training Loss: nan\n",
            "Epoch 9\n",
            "-------------------------------\n",
            "Training Loss: nan\n",
            "Epoch 10\n",
            "-------------------------------\n",
            "Training Loss: nan\n",
            "Epoch 11\n",
            "-------------------------------\n",
            "Training Loss: nan\n",
            "Epoch 12\n",
            "-------------------------------\n",
            "Training Loss: nan\n",
            "Epoch 13\n",
            "-------------------------------\n",
            "Training Loss: nan\n",
            "Epoch 14\n",
            "-------------------------------\n",
            "Training Loss: nan\n",
            "Epoch 15\n",
            "-------------------------------\n",
            "Training Loss: nan\n",
            "Epoch 16\n",
            "-------------------------------\n",
            "Training Loss: nan\n",
            "Epoch 17\n",
            "-------------------------------\n",
            "Training Loss: nan\n",
            "Epoch 18\n",
            "-------------------------------\n",
            "Training Loss: nan\n",
            "Epoch 19\n",
            "-------------------------------\n",
            "Training Loss: nan\n",
            "Epoch 20\n",
            "-------------------------------\n",
            "Training Loss: nan\n",
            "Epoch 21\n",
            "-------------------------------\n",
            "Training Loss: nan\n",
            "Epoch 22\n",
            "-------------------------------\n",
            "Training Loss: nan\n",
            "Epoch 23\n",
            "-------------------------------\n",
            "Training Loss: nan\n",
            "Epoch 24\n",
            "-------------------------------\n",
            "Training Loss: nan\n",
            "Epoch 25\n",
            "-------------------------------\n",
            "Training Loss: nan\n",
            "Epoch 26\n",
            "-------------------------------\n",
            "Training Loss: nan\n",
            "Epoch 27\n",
            "-------------------------------\n",
            "Training Loss: nan\n",
            "Epoch 28\n",
            "-------------------------------\n",
            "Training Loss: nan\n",
            "Epoch 29\n",
            "-------------------------------\n",
            "Training Loss: nan\n",
            "Epoch 30\n",
            "-------------------------------\n",
            "Training Loss: nan\n",
            "Done!\n",
            "\n",
            "----Evaluation:----\n",
            "\n",
            "Test Error: \n",
            " Accuracy: 23.5%, Avg loss:      nan, macro F1 score: 9.529411764705882%, \n",
            "confusion matrix: \n",
            "[[324   0   0   0]\n",
            " [297   0   0   0]\n",
            " [356   0   0   0]\n",
            " [399   0   0   0]] \n",
            "\n"
          ]
        }
      ],
      "source": [
        "device = torch.device('cuda' if torch.cuda.is_available() else 'cpu')\n",
        "model = Convolutional_Neural_Network().to(device)  #assing model to device\n",
        "\n",
        "# define the loss function\n",
        "loss_fn = nn.CrossEntropyLoss()\n",
        "\n",
        "# define the learning rate\n",
        "learning_rate =  0.002\n",
        "\n",
        "# define the optimizer object\n",
        "optimizer = torch.optim.SGD(model.parameters(), lr = learning_rate)\n",
        "\n",
        "# define number of epochs\n",
        "num_epochs = 30\n",
        "\n",
        "model = train_loop(num_epochs,train_dataloader, model, loss_fn, optimizer,device, validation_check=True,best_name='best_cnn_model',print_output=True)\n",
        "model = Convolutional_Neural_Network()\n",
        "model.load_state_dict(torch.load('best_cnn_model'))\n",
        "model = model.to(device)\n",
        "(_,_,test_loss, correct, f1, conf) = test_loop(test_dataloader, model, loss_fn,device)\n",
        "\n",
        "# Print results\n",
        "print(\"\\n----Evaluation:----\\n\")\n",
        "print(f\"Test Error: \\n Accuracy: {(100*correct):>0.1f}%, Avg loss: {test_loss:>8f}, macro F1 score: {f1 * 100}%, \\nconfusion matrix: \\n{conf} \\n\")\n"
      ]
    },
    {
      "cell_type": "markdown",
      "metadata": {
        "id": "83EZMyt2Mtxo"
      },
      "source": [
        "Είναι προφανές ότι το δίκτυο δεν μπορεί να εκπαιδευτεί, γεγονός που οφείλεται στο ότι η απώλεια προπόνησης αυξάνεται συνεχώς. Η τελική βαθμολογία F1 στο σύνολο δεδομένων δοκιμής είναι μόνο 9%."
      ]
    },
    {
      "cell_type": "markdown",
      "metadata": {
        "id": "7At4oJu_5GHJ"
      },
      "source": [
        "**Step 4: Pooling-Padding**\n",
        "\n",
        "Γι αυτό το λόγο χρησιμοποιούμε max pooling με kernel size=2 και padding=2."
      ]
    },
    {
      "cell_type": "code",
      "execution_count": null,
      "metadata": {
        "id": "JUyyYDNmhAn1"
      },
      "outputs": [],
      "source": [
        "\n",
        "class Convolutional_Neural_Network(nn.Module):\n",
        "  def __init__(self):\n",
        "    super().__init__()\n",
        "    # in channels, out_channels, kernel_size\n",
        "    self.conv1 = nn.Conv2d(1, 16, 5, padding=2)  ##in out kernel\n",
        "    self.conv2 = nn.Conv2d(16, 32, 5, padding=2)\n",
        "    self.conv3 = nn.Conv2d(32, 64, 5, padding=2)\n",
        "    self.conv4 = nn.Conv2d(64, 128, 5, padding=2)\n",
        "\n",
        "    self.flatten = nn.Flatten()\n",
        "    self.max_pool = nn.MaxPool2d(kernel_size=2)\n",
        "\n",
        "    self.linear_stack = nn.Sequential(\n",
        "            nn.Linear(1024, 1024),  ##torch.nn.Linear(in_features, out_features) 1024-->1024\n",
        "            nn.Linear(1024, 256),    ## 1024-->256\n",
        "            nn.Linear(256, 32),   ##256 -->32\n",
        "            nn.Linear(32, 4),     ##32 -->4\n",
        "        )\n",
        "\n",
        "  def forward(self, x):\n",
        "      x = torch.unsqueeze(x,1)\n",
        "\n",
        "      x = self.max_pool(self.conv1(x))\n",
        "      x = self.max_pool(self.conv2(x))\n",
        "      x = self.max_pool(self.conv3(x))\n",
        "      x = self.max_pool(self.conv4(x))\n",
        "\n",
        "      x = self.flatten(x)\n",
        "\n",
        "      x = self.linear_stack(x)\n",
        "\n",
        "      return x"
      ]
    },
    {
      "cell_type": "code",
      "execution_count": null,
      "metadata": {
        "id": "JhM1Kj5tjpdr"
      },
      "outputs": [],
      "source": [
        "# define number of epochs\n",
        "num_epochs = 30\n",
        "# define the loss function\n",
        "loss_fn = nn.CrossEntropyLoss()\n",
        "# define the learning rate\n",
        "learning_rate =  0.002"
      ]
    },
    {
      "cell_type": "code",
      "execution_count": null,
      "metadata": {
        "colab": {
          "base_uri": "https://localhost:8080/"
        },
        "id": "CVHT_4SdhDZW",
        "outputId": "99cfbc29-df3e-4b5c-d464-7126f19423f8"
      },
      "outputs": [
        {
          "name": "stdout",
          "output_type": "stream",
          "text": [
            "Epoch 1\n",
            "-------------------------------\n",
            "Training Loss: 1.3355626863241197\n",
            "Epoch 2\n",
            "-------------------------------\n",
            "Training Loss: 1.1871656295657158\n",
            "Epoch 3\n",
            "-------------------------------\n",
            "Training Loss: 1.0326383626461029\n",
            "Epoch 4\n",
            "-------------------------------\n",
            "Training Loss: 0.9303363659977912\n",
            "Epoch 5\n",
            "-------------------------------\n",
            "Training Loss: 0.8475657303631305\n",
            "Epoch 6\n",
            "-------------------------------\n",
            "Training Loss: 0.7885196845233441\n",
            "Epoch 7\n",
            "-------------------------------\n",
            "Training Loss: 0.7434751050174236\n",
            "Epoch 8\n",
            "-------------------------------\n",
            "Training Loss: 0.7067115913331509\n",
            "Epoch 9\n",
            "-------------------------------\n",
            "Training Loss: 0.6664017661660909\n",
            "Epoch 10\n",
            "-------------------------------\n",
            "Training Loss: 0.6441626574099064\n",
            "Epoch 11\n",
            "-------------------------------\n",
            "Training Loss: 0.6003832390904427\n",
            "Epoch 12\n",
            "-------------------------------\n",
            "Training Loss: 0.5870263357460499\n",
            "Epoch 13\n",
            "-------------------------------\n",
            "Training Loss: 0.5433645688742399\n",
            "Epoch 14\n",
            "-------------------------------\n",
            "Training Loss: 0.5350252690166235\n",
            "Epoch 15\n",
            "-------------------------------\n",
            "Training Loss: 0.4958382572233677\n",
            "Epoch 16\n",
            "-------------------------------\n",
            "Training Loss: 0.455806270390749\n",
            "Epoch 17\n",
            "-------------------------------\n",
            "Training Loss: 0.422208736166358\n",
            "Epoch 18\n",
            "-------------------------------\n",
            "Training Loss: 0.389309567026794\n",
            "Epoch 19\n",
            "-------------------------------\n",
            "Training Loss: 0.358195920959115\n",
            "Epoch 20\n",
            "-------------------------------\n",
            "Training Loss: 0.30670857783406974\n",
            "Epoch 21\n",
            "-------------------------------\n",
            "Training Loss: 0.2895419491454959\n",
            "Epoch 22\n",
            "-------------------------------\n",
            "Training Loss: 0.22893077636137604\n",
            "Epoch 23\n",
            "-------------------------------\n",
            "Training Loss: 0.18977636136114598\n",
            "Epoch 24\n",
            "-------------------------------\n",
            "Training Loss: 0.16165627043694258\n",
            "Epoch 25\n",
            "-------------------------------\n",
            "Training Loss: 0.12324869586154819\n",
            "Epoch 26\n",
            "-------------------------------\n",
            "Training Loss: 0.09552927953191101\n",
            "Epoch 27\n",
            "-------------------------------\n",
            "Training Loss: 0.06411838099826127\n",
            "Epoch 28\n",
            "-------------------------------\n",
            "Training Loss: 0.04422474010847509\n",
            "Epoch 29\n",
            "-------------------------------\n",
            "Training Loss: 0.029413870314601808\n",
            "Epoch 30\n",
            "-------------------------------\n",
            "Training Loss: 0.021171991357114166\n",
            "Done!\n",
            "\n",
            "----Evaluation:----\n",
            "\n",
            "Test Error: \n",
            " Accuracy: 72.2%, Avg loss: 0.058104, macro F1 score: 72.95841421107446%, \n",
            "confusion matrix: \n",
            "[[217  11  41  55]\n",
            " [ 20 264   5   8]\n",
            " [ 38   3 288  27]\n",
            " [111  12  51 225]] \n",
            "\n"
          ]
        }
      ],
      "source": [
        "device = torch.device('cuda' if torch.cuda.is_available() else 'cpu')\n",
        "model = Convolutional_Neural_Network().to(device)  ##assing model to device\n",
        "\n",
        "# define the optimizer object\n",
        "optimizer = torch.optim.SGD(model.parameters(), lr = learning_rate)\n",
        "\n",
        "model = train_loop(num_epochs,train_dataloader, model, loss_fn, optimizer,device, validation_check=True,best_name='best_cnn_model',print_output=True)\n",
        "model = Convolutional_Neural_Network()\n",
        "model.load_state_dict(torch.load('best_cnn_model'))\n",
        "model = model.to(device)\n",
        "(_,_,test_loss, correct, f1, conf) = test_loop(test_dataloader, model, loss_fn,device)\n",
        "\n",
        "# Print results\n",
        "print(\"\\n----Evaluation:----\\n\")\n",
        "print(f\"Test Error: \\n Accuracy: {(100*correct):>0.1f}%, Avg loss: {test_loss:>8f}, macro F1 score: {f1 * 100}%, \\nconfusion matrix: \\n{conf} \\n\")\n"
      ]
    },
    {
      "cell_type": "markdown",
      "metadata": {
        "id": "95gJm0iZeLam"
      },
      "source": [
        "Παρατηρούμε πως τώρα το νευρωνικό εκπαιδεύεται ενώ η απόδοση του έχει αυξηθεί κατα πολύ με f1 score=72.9%"
      ]
    },
    {
      "cell_type": "markdown",
      "metadata": {
        "id": "QYZvqIdg5LNa"
      },
      "source": [
        "**Step 5: Activation functions**"
      ]
    },
    {
      "cell_type": "markdown",
      "metadata": {
        "id": "D1ruHhJRO6Si"
      },
      "source": [
        "Εδώ χρησιμοποιούμε για activation function την ReLU"
      ]
    },
    {
      "cell_type": "code",
      "execution_count": null,
      "metadata": {
        "id": "plk0p2xXoRkb"
      },
      "outputs": [],
      "source": [
        "\n",
        "\n",
        "class Convolutional_Neural_Network(nn.Module):\n",
        "  def __init__(self):\n",
        "    super().__init__()\n",
        "    # in channels, out_channels, kernel_size\n",
        "    self.conv1 = nn.Conv2d(1, 16, 5, padding=2)  ##in out kernel\n",
        "    self.conv2 = nn.Conv2d(16, 32, 5, padding=2)\n",
        "    self.conv3 = nn.Conv2d(32, 64, 5, padding=2)\n",
        "    self.conv4 = nn.Conv2d(64, 128, 5, padding=2)\n",
        "\n",
        "    self.max_pool = nn.MaxPool2d(kernel_size=2)\n",
        "    self.flatten = nn.Flatten()\n",
        "\n",
        "    self.linear_stack = nn.Sequential(\n",
        "            nn.Linear(1024, 1024),  ##torch.nn.Linear(in_features, out_features) 1024-->1024\n",
        "            nn.ReLU(),\n",
        "            nn.Linear(1024, 256),    ## 1024-->256\n",
        "            nn.ReLU(),\n",
        "            nn.Linear(256, 32),   ##256 -->32\n",
        "            nn.ReLU(),\n",
        "            nn.Linear(32, 4),     ##32 -->4\n",
        "        )\n",
        "\n",
        "  def forward(self, x):\n",
        "      x = torch.unsqueeze(x,1)\n",
        "\n",
        "      x = self.max_pool(F.relu(self.conv1(x)))\n",
        "      x = self.max_pool(F.relu(self.conv2(x)))\n",
        "      x = self.max_pool(F.relu(self.conv3(x)))\n",
        "      x = self.max_pool(F.relu(self.conv4(x)))\n",
        "\n",
        "      x = self.flatten(x)\n",
        "\n",
        "      x = self.linear_stack(x)\n",
        "\n",
        "      return x"
      ]
    },
    {
      "cell_type": "code",
      "execution_count": null,
      "metadata": {
        "colab": {
          "base_uri": "https://localhost:8080/"
        },
        "id": "qCgaHfWrvNHK",
        "outputId": "07265fc3-0c11-4d31-e4ee-98ee5f960c7a"
      },
      "outputs": [
        {
          "name": "stdout",
          "output_type": "stream",
          "text": [
            "Done!\n",
            "\n",
            "----Evaluation:----\n",
            "\n",
            "Test Error: \n",
            " Accuracy: 66.6%, Avg loss: 0.049876, macro F1 score: 67.55482479014454%, \n",
            "confusion matrix: \n",
            "[[205   8  50  61]\n",
            " [ 69 213  15   0]\n",
            " [ 36   1 284  35]\n",
            " [103   5  76 215]] \n",
            "\n"
          ]
        }
      ],
      "source": [
        "# Initialize model, loss function, and optimizer\n",
        "device = torch.device('cuda' if torch.cuda.is_available() else 'cpu')\n",
        "model = Convolutional_Neural_Network().to(device)  ##assing model to device\n",
        "\n",
        "\n",
        "# define the optimizer object\n",
        "optimizer = torch.optim.SGD(model.parameters(), lr = learning_rate)\n",
        "\n",
        "\n",
        "model = train_loop(num_epochs,train_dataloader, model, loss_fn, optimizer,device, validation_check=True,best_name='best_cnn_model')\n",
        "model = Convolutional_Neural_Network()\n",
        "model.load_state_dict(torch.load('best_cnn_model'))\n",
        "model = model.to(device)\n",
        "(_,_,test_loss, correct, f1, conf) = test_loop(test_dataloader, model, loss_fn,device)\n",
        "\n",
        "# Print results\n",
        "print(\"\\n----Evaluation:----\\n\")\n",
        "print(f\"Test Error: \\n Accuracy: {(100*correct):>0.1f}%, Avg loss: {test_loss:>8f}, macro F1 score: {f1 * 100}%, \\nconfusion matrix: \\n{conf} \\n\")\n"
      ]
    },
    {
      "cell_type": "markdown",
      "source": [
        "Εδώ βλέπουμε πως χρησιμοποιώντας activation function σε κάθε συνελικτικό επίπεδο, η απόδοση πέφτει, ωστόσο αυτό θα αλλάξει όταν χρησιμοποιήσουμε batch normalizaiton."
      ],
      "metadata": {
        "id": "HQ0uM5WVTnV9"
      }
    },
    {
      "cell_type": "markdown",
      "metadata": {
        "id": "Fxi3BqOv5QxY"
      },
      "source": [
        "# **Question 3:**\n",
        "---\n",
        "**Step 1: Seed**"
      ]
    },
    {
      "cell_type": "markdown",
      "metadata": {
        "id": "UZ_WHra_O6Si"
      },
      "source": [
        "Add a seed to every possible library."
      ]
    },
    {
      "cell_type": "code",
      "execution_count": null,
      "metadata": {
        "id": "_PzmczFiyymE"
      },
      "outputs": [],
      "source": [
        "# Set seeds for reproducibility\n",
        "def set_seed(seed):\n",
        "    np.random.seed(seed)\n",
        "    random.seed(seed)\n",
        "    torch.manual_seed(seed)\n",
        "    torch.cuda.manual_seed(seed)\n",
        "    torch.cuda.manual_seed_all(seed)  # if you are using multi-GPU\n",
        "    torch.backends.cudnn.deterministic = True\n",
        "    torch.backends.cudnn.benchmark = False\n",
        "    os.environ['PYTHONHASHSEED'] = str(seed)\n",
        "\n"
      ]
    },
    {
      "cell_type": "markdown",
      "metadata": {
        "id": "ToIilIYNO6Sj"
      },
      "source": [
        "Χρησιμοποιώντας το seed που δώσαμε παραπάνω, εκπαιδεύουμε τώρα το βασικό μας μοντέλο, προκειμένου να χρησιμοποιήσουμε τα αποτελέσματά του ως αναφορά αργότερα."
      ]
    },
    {
      "cell_type": "code",
      "execution_count": null,
      "metadata": {
        "colab": {
          "base_uri": "https://localhost:8080/"
        },
        "id": "Wwu_TG36zEYZ",
        "outputId": "43aa16ab-733a-4ccb-e7b7-201b437b3a04"
      },
      "outputs": [
        {
          "name": "stdout",
          "output_type": "stream",
          "text": [
            "Epoch 1\n",
            "-------------------------------\n",
            "Training Loss: 1.3788252967596053\n",
            "Epoch 2\n",
            "-------------------------------\n",
            "Training Loss: 1.3356326115131378\n",
            "Epoch 3\n",
            "-------------------------------\n",
            "Training Loss: 1.2562288650870324\n",
            "Epoch 4\n",
            "-------------------------------\n",
            "Training Loss: 1.209403680562973\n",
            "Epoch 5\n",
            "-------------------------------\n",
            "Training Loss: 1.1559573635458946\n",
            "Epoch 6\n",
            "-------------------------------\n",
            "Training Loss: 1.1070733198523521\n",
            "Epoch 7\n",
            "-------------------------------\n",
            "Training Loss: 1.0726344618201256\n",
            "Epoch 8\n",
            "-------------------------------\n",
            "Training Loss: 1.0553993245959281\n",
            "Epoch 9\n",
            "-------------------------------\n",
            "Training Loss: 1.03471975505352\n",
            "Epoch 10\n",
            "-------------------------------\n",
            "Training Loss: 1.01705517411232\n",
            "Epoch 11\n",
            "-------------------------------\n",
            "Training Loss: 0.9924596413969994\n",
            "Epoch 12\n",
            "-------------------------------\n",
            "Training Loss: 0.9648828825354576\n",
            "Epoch 13\n",
            "-------------------------------\n",
            "Training Loss: 0.9427045831084251\n",
            "Epoch 14\n",
            "-------------------------------\n",
            "Training Loss: 0.918031405210495\n",
            "Epoch 15\n",
            "-------------------------------\n",
            "Training Loss: 0.8913313294947147\n",
            "Epoch 16\n",
            "-------------------------------\n",
            "Training Loss: 0.8775149238109589\n",
            "Epoch 17\n",
            "-------------------------------\n",
            "Training Loss: 0.8528625202178955\n",
            "Epoch 18\n",
            "-------------------------------\n",
            "Training Loss: 0.8396253700554371\n",
            "Epoch 19\n",
            "-------------------------------\n",
            "Training Loss: 0.8207310608029366\n",
            "Epoch 20\n",
            "-------------------------------\n",
            "Training Loss: 0.8138012650609017\n",
            "Epoch 21\n",
            "-------------------------------\n",
            "Training Loss: 0.8000851283967495\n",
            "Epoch 22\n",
            "-------------------------------\n",
            "Training Loss: 0.7774403326213359\n",
            "Epoch 23\n",
            "-------------------------------\n",
            "Training Loss: 0.7603688756376505\n",
            "Epoch 24\n",
            "-------------------------------\n",
            "Training Loss: 0.7509486189484597\n",
            "Epoch 25\n",
            "-------------------------------\n",
            "Training Loss: 0.7393404522538185\n",
            "Epoch 26\n",
            "-------------------------------\n",
            "Training Loss: 0.7294191278517246\n",
            "Epoch 27\n",
            "-------------------------------\n",
            "Training Loss: 0.7178004942834377\n",
            "Epoch 28\n",
            "-------------------------------\n",
            "Training Loss: 0.6955352848768235\n",
            "Epoch 29\n",
            "-------------------------------\n",
            "Training Loss: 0.6961416651308536\n",
            "Epoch 30\n",
            "-------------------------------\n",
            "Training Loss: 0.6801178582012654\n",
            "Done!\n",
            "\n",
            "----Evaluation:----\n",
            "\n",
            "Test Error: \n",
            " Accuracy: 64.2%, Avg loss: 0.054385, macro F1 score: 64.53674468373822%, \n",
            "confusion matrix: \n",
            "[[194  19  55  56]\n",
            " [ 42 232  15   8]\n",
            " [ 41   2 293  20]\n",
            " [111  14 110 164]] \n",
            "\n"
          ]
        }
      ],
      "source": [
        "set_seed(42)\n",
        "\n",
        "# Initialize model, loss function, and optimizer\n",
        "device = torch.device('cuda' if torch.cuda.is_available() else 'cpu')\n",
        "model = Convolutional_Neural_Network().to(device)  ##assing model to device\n",
        "\n",
        "\n",
        "# define the optimizer object\n",
        "optimizer = torch.optim.SGD(model.parameters(), lr = learning_rate)\n",
        "\n",
        "model = train_loop(num_epochs,train_dataloader, model, loss_fn, optimizer,device, validation_check=True,best_name='best_cnn_model',print_output=True)\n",
        "model = Convolutional_Neural_Network()\n",
        "model.load_state_dict(torch.load('best_cnn_model'))\n",
        "model = model.to(device)\n",
        "(_,_,test_loss, correct, f1, conf) = test_loop(test_dataloader, model, loss_fn,device)\n",
        "\n",
        "# Print results\n",
        "print(\"\\n----Evaluation:----\\n\")\n",
        "print(f\"Test Error: \\n Accuracy: {(100*correct):>0.1f}%, Avg loss: {test_loss:>8f}, macro F1 score: {f1 * 100}%, \\nconfusion matrix: \\n{conf} \\n\")\n"
      ]
    },
    {
      "cell_type": "markdown",
      "metadata": {
        "id": "yfB5gGzYgm26"
      },
      "source": [
        "Το F1-Score  είναι 64.5%. Να σημειωθεί πως για την εκτέλεση αυτη εχει χρησιμοποιηθει relu activation function."
      ]
    },
    {
      "cell_type": "markdown",
      "metadata": {
        "id": "Pmqh96bjE-Ox"
      },
      "source": [
        "**Step 2: Optimizers**"
      ]
    },
    {
      "cell_type": "code",
      "execution_count": null,
      "metadata": {
        "colab": {
          "base_uri": "https://localhost:8080/"
        },
        "id": "YXoT0vvOixNZ",
        "outputId": "30bf674a-c58b-4320-cd4e-d908fc787cd0"
      },
      "outputs": [
        {
          "name": "stdout",
          "output_type": "stream",
          "text": [
            "\n",
            "----- adadelta -----\n",
            "Done!\n",
            "\n",
            "----Evaluation:----\n",
            "\n",
            "Test Error: \n",
            " Accuracy: 50.4%, Avg loss: 0.066060, macro F1 score: 50.77694177067461%\n",
            "\n",
            "\n",
            "----- adagrad -----\n",
            "Done!\n",
            "\n",
            "----Evaluation:----\n",
            "\n",
            "Test Error: \n",
            " Accuracy: 72.5%, Avg loss: 0.048857, macro F1 score: 72.8444870523975%\n",
            "\n",
            "\n",
            "----- adam -----\n",
            "Done!\n",
            "\n",
            "----Evaluation:----\n",
            "\n",
            "Test Error: \n",
            " Accuracy: 69.5%, Avg loss: 0.053215, macro F1 score: 70.55872269820179%\n",
            "\n",
            "\n",
            "----- adamw -----\n",
            "Done!\n",
            "\n",
            "----Evaluation:----\n",
            "\n",
            "Test Error: \n",
            " Accuracy: 68.2%, Avg loss: 0.057996, macro F1 score: 68.69720278723813%\n",
            "\n",
            "\n",
            "----- adamax -----\n",
            "Done!\n",
            "\n",
            "----Evaluation:----\n",
            "\n",
            "Test Error: \n",
            " Accuracy: 68.8%, Avg loss: 0.260879, macro F1 score: 69.29194021029663%\n",
            "\n",
            "\n",
            "----- asgd -----\n",
            "Done!\n",
            "\n",
            "----Evaluation:----\n",
            "\n",
            "Test Error: \n",
            " Accuracy: 68.2%, Avg loss: 0.331090, macro F1 score: 68.5297380386918%\n",
            "\n",
            "\n",
            "----- nadam -----\n",
            "Done!\n",
            "\n",
            "----Evaluation:----\n",
            "\n",
            "Test Error: \n",
            " Accuracy: 68.1%, Avg loss: 0.134362, macro F1 score: 68.69558406903217%\n",
            "\n",
            "\n",
            "----- radam -----\n",
            "Done!\n",
            "\n",
            "----Evaluation:----\n",
            "\n",
            "Test Error: \n",
            " Accuracy: 67.2%, Avg loss: 0.153034, macro F1 score: 68.14257440477947%\n",
            "\n",
            "\n",
            "----- sgd -----\n",
            "Done!\n",
            "\n",
            "----Evaluation:----\n",
            "\n",
            "Test Error: \n",
            " Accuracy: 67.8%, Avg loss: 0.134993, macro F1 score: 68.49813601804735%\n",
            "\n"
          ]
        }
      ],
      "source": [
        "# Initialize model, loss function, and optimizer\n",
        "device = torch.device('cuda' if torch.cuda.is_available() else 'cpu')\n",
        "set_seed(42)\n",
        "model = Convolutional_Neural_Network().to(device)  ##assing model to device\n",
        "# define the optimizer object\n",
        "optimizers = [(torch.optim.Adadelta(model.parameters(), lr=learning_rate), \"adadelta\"),\n",
        "              (torch.optim.Adagrad(model.parameters(), lr=learning_rate), \"adagrad\"),\n",
        "              (torch.optim.Adam(model.parameters(), lr=learning_rate), \"adam\"),\n",
        "              (torch.optim.AdamW(model.parameters(), lr=learning_rate), \"adamw\"),\n",
        "              (torch.optim.Adamax(model.parameters(), lr=learning_rate), \"adamax\"),\n",
        "              (torch.optim.ASGD(model.parameters(), lr=learning_rate), \"asgd\"),\n",
        "              (torch.optim.NAdam(model.parameters(), lr=learning_rate), \"nadam\"),\n",
        "              (torch.optim.RAdam(model.parameters(), lr=learning_rate), \"radam\"),\n",
        "              (torch.optim.SGD(model.parameters(), lr=learning_rate), \"sgd\")]\n",
        "\n",
        "for optimizer, optimizer_name in optimizers:\n",
        "    set_seed(42)\n",
        "    print(\"\\n-----\", optimizer_name, \"-----\")\n",
        "\n",
        "    new_model = train_loop(30,train_dataloader, model, loss_fn, optimizer,device,validation_check=True,best_name='best_cnn_model')\n",
        "    new_model = Convolutional_Neural_Network()\n",
        "    new_model.load_state_dict(torch.load('best_cnn_model'))\n",
        "    new_model = new_model.to(device)\n",
        "    (_,_,test_loss, correct, f1,_) = test_loop(test_dataloader, new_model, loss_fn,device)\n",
        "\n",
        "    # Print results\n",
        "    print(\"\\n----Evaluation:----\\n\")\n",
        "    print(f\"Test Error: \\n Accuracy: {(100*correct):>0.1f}%, Avg loss: {test_loss:>8f}, macro F1 score: {f1 * 100}%\\n\")\n"
      ]
    },
    {
      "cell_type": "markdown",
      "metadata": {
        "id": "At9h24lIFWOR"
      },
      "source": [
        "<center>\n",
        "\n",
        "| <font size=\"4\" rowspan=\"2\">Metrics/Algorithm</font>    | <font size=\"4\">adadelta</font> | <font size=\"4\">adagram</font> | <font size=\"4\">adam</font> | <font size=\"4\">adamw</font> | <font size=\"4\">adamax</font> | <font size=\"4\">asgd</font> | <font size=\"4\">nadam</font> | <font size=\"4\">radam</font> | <font size=\"4\">sgd</font> |\n",
        "|------------|----------|---------|------|-------|--------|------|------|-------|-----|\n",
        "| <font size=\"4\">Accuracy</font>   | <font size=\"4\">50.4%</font> | <font size=\"4\">72.5%</font> | <font size=\"4\">69.5%</font> | <font size=\"4\">68.2%</font> | <font size=\"4\">68.8%</font> | <font size=\"4\">68.2%</font> | <font size=\"4\">68.1%</font> | <font size=\"4\">67.2%</font> | <font size=\"4\">67.8%</font> |\n",
        "| <font size=\"4\">f1 score</font>   | <font size=\"4\">50.7%</font> | <font size=\"4\">72.8%</font> | <font size=\"4\">70.5%</font> | <font size=\"4\">68.6%</font> | <font size=\"4\">69.2%</font> | <font size=\"4\">68.5%</font> | <font size=\"4\">68.6%</font> | <font size=\"4\">68.1%</font> | <font size=\"4\">68.4%</font> |\n",
        "\n",
        "</center>\n"
      ]
    },
    {
      "cell_type": "markdown",
      "metadata": {
        "id": "NVjcVGxsfRIN"
      },
      "source": [
        "Βλέπουμε πως ο καλύτερος optimizer με βάση το accuracy και το f1 score  είναι ο Adagrad ενώ με διαφορά ο χειρότερος ο adadelta.\n",
        "\n",
        "Οι υπόλοιποοι έχουν περίπου την ίδια απόδοση.\n",
        "\n",
        "Να σημειωθεί πως για την εκτέλεση αυτη  εχει χρησιμοποιηθει relu activation function."
      ]
    },
    {
      "cell_type": "markdown",
      "metadata": {
        "id": "nBi0g684rFPC"
      },
      "source": [
        "**Step 3: Batch Normalization**\n",
        "\n",
        "Τώρα θα προσθέσουμε batch normalization 2d πριν από κάθε activation ενός convolutional layer."
      ]
    },
    {
      "cell_type": "code",
      "execution_count": null,
      "metadata": {
        "id": "wFxh55cPlcK1"
      },
      "outputs": [],
      "source": [
        "class Convolutional_Neural_Network(nn.Module):\n",
        "  def __init__(self):\n",
        "    super().__init__()\n",
        "    # in channels, out_channels, kernel_size\n",
        "    self.conv1 = nn.Conv2d(1, 16, 5, padding=2)  ##in out kernel\n",
        "    self.bn1 = nn.BatchNorm2d(16)\n",
        "\n",
        "    self.conv2 = nn.Conv2d(16, 32, 5, padding=2)\n",
        "    self.bn2 = nn.BatchNorm2d(32)\n",
        "\n",
        "    self.conv3 = nn.Conv2d(32, 64, 5, padding=2)\n",
        "    self.bn3 = nn.BatchNorm2d(64)\n",
        "\n",
        "    self.conv4 = nn.Conv2d(64, 128, 5, padding=2)\n",
        "    self.bn4 = nn.BatchNorm2d(128)\n",
        "\n",
        "    self.max_pool = nn.MaxPool2d(kernel_size=2)\n",
        "    self.flatten = nn.Flatten()\n",
        "\n",
        "\n",
        "    self.linear_stack = nn.Sequential(\n",
        "            nn.Linear(1024, 1024),  ##torch.nn.Linear(in_features, out_features) 1024-->1024\n",
        "            nn.BatchNorm1d(1024),\n",
        "            nn.ReLU(),\n",
        "            nn.Linear(1024, 256),    ## 1024-->256\n",
        "            nn.BatchNorm1d(256),\n",
        "            nn.ReLU(),\n",
        "            nn.Linear(256, 32),   ##256 -->32\n",
        "            nn.BatchNorm1d(32),\n",
        "            nn.ReLU(),\n",
        "            nn.Linear(32, 4),     ##32 -->4\n",
        "\n",
        "        )\n",
        "\n",
        "  def forward(self, x):\n",
        "        x = torch.unsqueeze(x, 1)  # Add channel dimension\n",
        "\n",
        "        x = self.max_pool(F.relu(self.conv1(x)))\n",
        "        x = self.max_pool(F.relu(self.conv2(x)))\n",
        "        x = self.max_pool(F.relu(self.conv3(x)))\n",
        "        x = self.max_pool(F.relu(self.conv4(x)))\n",
        "\n",
        "        x = self.flatten(x)\n",
        "\n",
        "        x = self.linear_stack(x)\n",
        "\n",
        "        return x"
      ]
    },
    {
      "cell_type": "markdown",
      "metadata": {
        "id": "qUXsu9mdTDm3"
      },
      "source": [
        "Χρησιμοποιούμε τον optimizer με την καλύτερη απόδοση."
      ]
    },
    {
      "cell_type": "code",
      "execution_count": null,
      "metadata": {
        "colab": {
          "base_uri": "https://localhost:8080/"
        },
        "id": "h_EmV-SulbiN",
        "outputId": "4c230d27-f105-4306-e3b4-bfb4102c1e0e"
      },
      "outputs": [
        {
          "name": "stdout",
          "output_type": "stream",
          "text": [
            "Done!\n",
            "\n",
            "----Evaluation:----\n",
            "\n",
            "Test Error: \n",
            " Accuracy: 74.8%, Avg loss: 0.044633, macro F1 score: 75.00177177461873%, \n",
            "confusion matrix: \n",
            "[[203  20  74  27]\n",
            " [ 11 283   1   2]\n",
            " [ 41   3 303   9]\n",
            " [ 98  18  43 240]] \n",
            "\n"
          ]
        }
      ],
      "source": [
        "set_seed(42)\n",
        "# Initialize model, loss function, and optimizer\n",
        "device = torch.device('cuda' if torch.cuda.is_available() else 'cpu')\n",
        "model = Convolutional_Neural_Network().to(device)  ##assing model to device\n",
        "\n",
        "\n",
        "# define the optimizer object\n",
        "optimizer = torch.optim.Adagrad(model.parameters(), lr=learning_rate)\n",
        "\n",
        "\n",
        "model = train_loop(num_epochs,train_dataloader, model, loss_fn, optimizer,device, validation_check=True,best_name='best_cnn_model')\n",
        "model = Convolutional_Neural_Network()\n",
        "model.load_state_dict(torch.load('best_cnn_model'))\n",
        "model = model.to(device)\n",
        "(_,_,test_loss, correct, f1, conf) = test_loop(test_dataloader, model, loss_fn,device)\n",
        "\n",
        "# Print results\n",
        "print(\"\\n----Evaluation:----\\n\")\n",
        "print(f\"Test Error: \\n Accuracy: {(100*correct):>0.1f}%, Avg loss: {test_loss:>8f}, macro F1 score: {f1 * 100}%, \\nconfusion matrix: \\n{conf} \\n\")\n"
      ]
    },
    {
      "cell_type": "markdown",
      "metadata": {
        "id": "lkPCfCxmhbha"
      },
      "source": [
        "Παρατηρούμε πως έχουμε μεγάλη βετλίωση στο f1-score από 64.5% σε 75%."
      ]
    },
    {
      "cell_type": "markdown",
      "metadata": {
        "id": "Py64_eE3q-1l"
      },
      "source": [
        "**Step 4: Regularization**\n",
        "\n",
        "Εδώ θα δοκιμάσουμε μερικές τιμές του weight decay για να δούμε πως μεταβάλλεται η απόδοση του μοντέλου."
      ]
    },
    {
      "cell_type": "code",
      "execution_count": null,
      "metadata": {
        "colab": {
          "base_uri": "https://localhost:8080/"
        },
        "id": "IGQNLKo1rKlA",
        "outputId": "9017c4b6-4344-455b-8203-3667a35c900b"
      },
      "outputs": [
        {
          "name": "stdout",
          "output_type": "stream",
          "text": [
            "\n",
            "---- weight decay = 0.001 ----\n",
            "Done!\n",
            "\n",
            "----Evaluation:----\n",
            "\n",
            "Test Error: \n",
            " Accuracy: 73.1%, Avg loss: 0.046123, macro F1 score: 73.06859874036329%, \n",
            "confusion matrix: \n",
            "[[184  32  58  50]\n",
            " [ 16 272   3   6]\n",
            " [ 28   2 313  13]\n",
            " [ 98  14  50 237]] \n",
            "\n",
            "\n",
            "---- weight decay = 0.0001 ----\n",
            "Done!\n",
            "\n",
            "----Evaluation:----\n",
            "\n",
            "Test Error: \n",
            " Accuracy: 73.1%, Avg loss: 0.043696, macro F1 score: 74.07277637612839%, \n",
            "confusion matrix: \n",
            "[[247  11  46  20]\n",
            " [ 35 256   3   3]\n",
            " [ 58   2 292   4]\n",
            " [145   8  35 211]] \n",
            "\n",
            "\n",
            "---- weight decay = 1e-05 ----\n",
            "Done!\n",
            "\n",
            "----Evaluation:----\n",
            "\n",
            "Test Error: \n",
            " Accuracy: 74.5%, Avg loss: 0.048015, macro F1 score: 74.6863881842978%, \n",
            "confusion matrix: \n",
            "[[195  29  38  62]\n",
            " [ 14 277   1   5]\n",
            " [ 39   5 288  24]\n",
            " [ 83  16  35 265]] \n",
            "\n",
            "\n",
            "---- weight decay = 1e-06 ----\n",
            "Done!\n",
            "\n",
            "----Evaluation:----\n",
            "\n",
            "Test Error: \n",
            " Accuracy: 72.8%, Avg loss: 0.048868, macro F1 score: 73.52382213558587%, \n",
            "confusion matrix: \n",
            "[[206  17  39  62]\n",
            " [ 23 268   3   3]\n",
            " [ 52   3 275  26]\n",
            " [102  14  30 253]] \n",
            "\n"
          ]
        }
      ],
      "source": [
        "# Initialize model, loss function, and optimizer\n",
        "device = torch.device('cuda' if torch.cuda.is_available() else 'cpu')\n",
        "\n",
        "\n",
        "for weight_decay in [0.001, 0.0001, 0.00001, 0.000001]:\n",
        "  set_seed(42)\n",
        "\n",
        "  print(\"\\n---- weight decay =\", weight_decay, \"----\")\n",
        "  # define the optimizer object\n",
        "  model = Convolutional_Neural_Network().to(device)  ##assing model to device\n",
        "  optimizer = optimizer = torch.optim.Adagrad(model.parameters(), lr=learning_rate, weight_decay=weight_decay)\n",
        "\n",
        "  model = train_loop(num_epochs,train_dataloader, model, loss_fn, optimizer,device, validation_check=True,best_name='best_cnn_model')\n",
        "  model = Convolutional_Neural_Network()\n",
        "  model.load_state_dict(torch.load('best_cnn_model'))\n",
        "  model = model.to(device)\n",
        "  (_,_,test_loss, correct, f1, conf) = test_loop(test_dataloader, model, loss_fn,device)\n",
        "\n",
        "  # Print results\n",
        "  print(\"\\n----Evaluation:----\\n\")\n",
        "  print(f\"Test Error: \\n Accuracy: {(100*correct):>0.1f}%, Avg loss: {test_loss:>8f}, macro F1 score: {f1 * 100}%, \\nconfusion matrix: \\n{conf} \\n\")\n"
      ]
    },
    {
      "cell_type": "code",
      "execution_count": null,
      "metadata": {
        "id": "ByRTRheErgmC"
      },
      "outputs": [],
      "source": [
        "class Convolutional_Neural_Network(nn.Module):\n",
        "  def __init__(self,dropout):\n",
        "    super().__init__()\n",
        "    # in channels, out_channels, kernel_size\n",
        "    self.conv1 = nn.Conv2d(1, 16, 5, padding=2)  ##in out kernel\n",
        "    self.bn1 = nn.BatchNorm2d(16)\n",
        "\n",
        "    self.conv2 = nn.Conv2d(16, 32, 5, padding=2)\n",
        "    self.bn2 = nn.BatchNorm2d(32)\n",
        "\n",
        "    self.conv3 = nn.Conv2d(32, 64, 5, padding=2)\n",
        "    self.bn3 = nn.BatchNorm2d(64)\n",
        "\n",
        "    self.conv4 = nn.Conv2d(64, 128, 5, padding=2)\n",
        "    self.bn4 = nn.BatchNorm2d(128)\n",
        "\n",
        "    self.max_pool = nn.MaxPool2d(kernel_size=2)\n",
        "    self.flatten = nn.Flatten()\n",
        "\n",
        "\n",
        "    self.linear_stack = nn.Sequential(\n",
        "            nn.Linear(1024, 1024),  ##torch.nn.Linear(in_features, out_features) 1024-->1024\n",
        "            nn.BatchNorm1d(1024),\n",
        "            nn.ReLU(),\n",
        "            nn.Dropout(dropout),\n",
        "            nn.Linear(1024, 256),    ## 1024-->256\n",
        "            nn.BatchNorm1d(256),\n",
        "            nn.ReLU(),\n",
        "            nn.Dropout(dropout),\n",
        "            nn.Linear(256, 32),   ##256 -->32\n",
        "            nn.BatchNorm1d(32),\n",
        "            nn.ReLU(),\n",
        "            nn.Dropout(dropout),\n",
        "            nn.Linear(32, 4),     ##32 -->4\n",
        "\n",
        "        )\n",
        "\n",
        "  def forward(self, x):\n",
        "        x = torch.unsqueeze(x, 1)  # Add channel dimension\n",
        "\n",
        "        x = self.max_pool(F.relu(self.bn1(self.conv1(x))))\n",
        "        x = self.max_pool(F.relu(self.bn2(self.conv2(x))))\n",
        "        x = self.max_pool(F.relu(self.bn3(self.conv3(x))))\n",
        "        x = self.max_pool(F.relu(self.bn4(self.conv4(x))))\n",
        "\n",
        "        x = self.flatten(x)\n",
        "        x = self.linear_stack(x)\n",
        "\n",
        "        return x"
      ]
    },
    {
      "cell_type": "markdown",
      "metadata": {
        "id": "Ma3wqYMdiX2B"
      },
      "source": [
        "Εδώ θα δοκιμάσουμε μερικές τιμές του dropout στα γραμμικά επίπεδα για να δούμε πως μεταβάλλεται η απόδοση του μοντέλου."
      ]
    },
    {
      "cell_type": "code",
      "execution_count": null,
      "metadata": {
        "colab": {
          "base_uri": "https://localhost:8080/"
        },
        "id": "CpY2vzUC5WgG",
        "outputId": "001d02c0-68bd-4fe2-d72c-5ae718a6da19"
      },
      "outputs": [
        {
          "name": "stdout",
          "output_type": "stream",
          "text": [
            "\n",
            "---- dropout = 0.4 ----\n",
            "Done!\n",
            "\n",
            "----Evaluation:----\n",
            "\n",
            "Test Error: \n",
            " Accuracy: 76.3%, Avg loss: 0.040858, macro F1 score: 76.89253085709133%, \n",
            "confusion matrix: \n",
            "[[233  14  52  25]\n",
            " [ 19 273   2   3]\n",
            " [ 47   3 291  15]\n",
            " [101  13  32 253]] \n",
            "\n",
            "\n",
            "---- dropout = 0.5 ----\n",
            "Done!\n",
            "\n",
            "----Evaluation:----\n",
            "\n",
            "Test Error: \n",
            " Accuracy: 76.2%, Avg loss: 0.042809, macro F1 score: 76.63927957536806%, \n",
            "confusion matrix: \n",
            "[[228  12  68  16]\n",
            " [ 12 281   2   2]\n",
            " [ 38   6 306   6]\n",
            " [108  14  43 234]] \n",
            "\n",
            "\n",
            "---- dropout = 0.6 ----\n",
            "Done!\n",
            "\n",
            "----Evaluation:----\n",
            "\n",
            "Test Error: \n",
            " Accuracy: 76.4%, Avg loss: 0.044980, macro F1 score: 76.48196985675426%, \n",
            "confusion matrix: \n",
            "[[197  20  67  40]\n",
            " [ 13 282   1   1]\n",
            " [ 33   4 309  10]\n",
            " [ 86  13  37 263]] \n",
            "\n"
          ]
        }
      ],
      "source": [
        "# Initialize model, loss function, and optimizer\n",
        "device = torch.device('cuda' if torch.cuda.is_available() else 'cpu')\n",
        "\n",
        "for dropout in [0.4, 0.5, 0.6]:\n",
        "  set_seed(42)\n",
        "\n",
        "  print(\"\\n---- dropout =\", dropout, \"----\")\n",
        "  # define the optimizer object\n",
        "  model = Convolutional_Neural_Network(dropout).to(device)  ##assing model to device\n",
        "\n",
        "  optimizer = optimizer = torch.optim.Adagrad(model.parameters(), lr=learning_rate)\n",
        "\n",
        "  model = train_loop(num_epochs,train_dataloader, model, loss_fn, optimizer,device, validation_check=True,best_name='best_cnn_model')\n",
        "  model = Convolutional_Neural_Network(dropout)\n",
        "  model.load_state_dict(torch.load('best_cnn_model'))\n",
        "  model = model.to(device)\n",
        "  (_,_,test_loss, correct, f1, conf) = test_loop(test_dataloader, model, loss_fn,device)\n",
        "\n",
        "  # Print results\n",
        "  print(\"\\n----Evaluation:----\\n\")\n",
        "  print(f\"Test Error: \\n Accuracy: {(100*correct):>0.1f}%, Avg loss: {test_loss:>8f}, macro F1 score: {f1 * 100}%, \\nconfusion matrix: \\n{conf} \\n\")\n"
      ]
    },
    {
      "cell_type": "markdown",
      "metadata": {
        "id": "J1YTeCNLig8R"
      },
      "source": [
        "Εδώ τεστάρουμε την απόδοση του μοντέλου για αριθμο εποχών=60 και με τις καλύτερες τιμές που βρήκαμε για weight decay και dropout"
      ]
    },
    {
      "cell_type": "code",
      "execution_count": null,
      "metadata": {
        "colab": {
          "base_uri": "https://localhost:8080/"
        },
        "id": "EoDc5rEgLJKM",
        "outputId": "49c44082-f84f-4fd2-9555-3a2f16d2e987"
      },
      "outputs": [
        {
          "name": "stdout",
          "output_type": "stream",
          "text": [
            "\n",
            "---- dropout = 0.0 ---- weight_decay = 1e-05 ----\n",
            "Done!\n",
            "\n",
            "----Evaluation:----\n",
            "\n",
            "Test Error: \n",
            " Accuracy: 74.6%, Avg loss: 0.043400, macro F1 score: 75.34673488845856%, \n",
            "confusion matrix: \n",
            "[[231  11  32  50]\n",
            " [ 22 270   1   4]\n",
            " [ 59   4 273  20]\n",
            " [ 95  20  31 253]] \n",
            "\n",
            "\n",
            "---- dropout = 0.5 ---- weight_decay = 0 ----\n",
            "Done!\n",
            "\n",
            "----Evaluation:----\n",
            "\n",
            "Test Error: \n",
            " Accuracy: 76.2%, Avg loss: 0.042809, macro F1 score: 76.63927957536806%, \n",
            "confusion matrix: \n",
            "[[228  12  68  16]\n",
            " [ 12 281   2   2]\n",
            " [ 38   6 306   6]\n",
            " [108  14  43 234]] \n",
            "\n",
            "\n",
            "---- dropout = 0.5 ---- weight_decay = 1e-05 ----\n",
            "Done!\n",
            "\n",
            "----Evaluation:----\n",
            "\n",
            "Test Error: \n",
            " Accuracy: 77.6%, Avg loss: 0.041299, macro F1 score: 78.11327531506484%, \n",
            "confusion matrix: \n",
            "[[240  20  39  25]\n",
            " [  8 288   0   1]\n",
            " [ 55   4 284  13]\n",
            " [103  17  23 256]] \n",
            "\n"
          ]
        }
      ],
      "source": [
        "device = torch.device('cuda' if torch.cuda.is_available() else 'cpu')\n",
        "\n",
        "num_epochs=60\n",
        "for weight_decay, dropout in [(0.00001, 0.0), (0, 0.5), (0.00001, 0.5)]:\n",
        "\n",
        "  print(\"\\n---- dropout =\", dropout, \"---- weight_decay =\", weight_decay, \"----\")\n",
        "  set_seed(42)\n",
        "  # define the optimizer object\n",
        "  model = Convolutional_Neural_Network(dropout).to(device)  ##assing model to device\n",
        "\n",
        "  optimizer = optimizer = torch.optim.Adagrad(model.parameters(), lr=learning_rate, weight_decay=weight_decay)\n",
        "\n",
        "  new_model = train_loop(num_epochs,train_dataloader, model, loss_fn, optimizer,device, validation_check=True,best_name='best_cnn_model')\n",
        "  new_model = Convolutional_Neural_Network(dropout)\n",
        "  new_model.load_state_dict(torch.load('best_cnn_model'))\n",
        "  new_model = new_model.to(device)\n",
        "  (_,_,test_loss, correct, f1, conf) = test_loop(test_dataloader, new_model, loss_fn,device)\n",
        "\n",
        "  # Print results\n",
        "  print(\"\\n----Evaluation:----\\n\")\n",
        "  print(f\"Test Error: \\n Accuracy: {(100*correct):>0.1f}%, Avg loss: {test_loss:>8f}, macro F1 score: {f1 * 100}%, \\nconfusion matrix: \\n{conf} \\n\")\n"
      ]
    },
    {
      "cell_type": "markdown",
      "source": [
        "Παρατηρούμε πως για dropout=0.5 kai weight decay=1e-05 η απόδοση γίνεται ακόμα καλύτερη."
      ],
      "metadata": {
        "id": "mbIKJ1f-VlRC"
      }
    },
    {
      "cell_type": "markdown",
      "metadata": {
        "id": "nmDIw_i2i_Ii"
      },
      "source": [
        "# **Question 4: Testing**\n",
        "\n",
        "\n",
        "---\n",
        "\n",
        "\n",
        "**Step 1: Inference**"
      ]
    },
    {
      "cell_type": "markdown",
      "metadata": {
        "id": "NOZXPt6-jW-3"
      },
      "source": [
        "Θα χρησιμοποιηθεί η test_loop που έχουμε ήδη υλοποιήσει στα προηγούμενα ερωτήματα."
      ]
    },
    {
      "cell_type": "markdown",
      "metadata": {
        "id": "jwoBmLIdjire"
      },
      "source": [
        "**Step 2: Downloading Music from youtube**"
      ]
    },
    {
      "cell_type": "code",
      "execution_count": null,
      "metadata": {
        "colab": {
          "base_uri": "https://localhost:8080/"
        },
        "id": "I60YMhhpuQAN",
        "outputId": "f6d29753-29e0-4e75-d721-155f8fc946ed"
      },
      "outputs": [
        {
          "name": "stdout",
          "output_type": "stream",
          "text": [
            "\r0% [Working]\r            \rGet:1 https://cloud.r-project.org/bin/linux/ubuntu jammy-cran40/ InRelease [3,626 B]\n",
            "Get:2 https://developer.download.nvidia.com/compute/cuda/repos/ubuntu2204/x86_64  InRelease [1,581 B]\n",
            "Get:3 http://security.ubuntu.com/ubuntu jammy-security InRelease [129 kB]\n",
            "Get:4 https://developer.download.nvidia.com/compute/cuda/repos/ubuntu2204/x86_64  Packages [917 kB]\n",
            "Hit:5 http://archive.ubuntu.com/ubuntu jammy InRelease\n",
            "Get:6 http://archive.ubuntu.com/ubuntu jammy-updates InRelease [128 kB]\n",
            "Get:7 http://security.ubuntu.com/ubuntu jammy-security/main amd64 Packages [1,885 kB]\n",
            "Hit:8 https://ppa.launchpadcontent.net/c2d4u.team/c2d4u4.0+/ubuntu jammy InRelease\n",
            "Get:9 http://archive.ubuntu.com/ubuntu jammy-backports InRelease [127 kB]\n",
            "Hit:10 https://ppa.launchpadcontent.net/deadsnakes/ppa/ubuntu jammy InRelease\n",
            "Get:11 http://archive.ubuntu.com/ubuntu jammy-updates/universe amd64 Packages [1,389 kB]\n",
            "Get:12 http://security.ubuntu.com/ubuntu jammy-security/restricted amd64 Packages [2,439 kB]\n",
            "Get:13 https://ppa.launchpadcontent.net/graphics-drivers/ppa/ubuntu jammy InRelease [24.3 kB]\n",
            "Get:14 http://security.ubuntu.com/ubuntu jammy-security/universe amd64 Packages [1,088 kB]\n",
            "Hit:15 https://ppa.launchpadcontent.net/ubuntugis/ppa/ubuntu jammy InRelease\n",
            "Get:16 http://archive.ubuntu.com/ubuntu jammy-updates/multiverse amd64 Packages [51.5 kB]\n",
            "Get:17 http://archive.ubuntu.com/ubuntu jammy-updates/main amd64 Packages [2,160 kB]\n",
            "Get:18 http://archive.ubuntu.com/ubuntu jammy-backports/universe amd64 Packages [31.8 kB]\n",
            "Get:19 https://ppa.launchpadcontent.net/graphics-drivers/ppa/ubuntu jammy/main amd64 Packages [47.9 kB]\n",
            "Fetched 10.4 MB in 2s (4,642 kB/s)\n",
            "Reading package lists... Done\n",
            "  % Total    % Received % Xferd  Average Speed   Time    Time     Time  Current\n",
            "                                 Dload  Upload   Total   Spent    Left  Speed\n",
            "100   384  100   384    0     0    393      0 --:--:-- --:--:-- --:--:--   393\n",
            "Collecting yt-dlp\n",
            "  Downloading yt_dlp-2024.5.27-py3-none-any.whl (3.1 MB)\n",
            "\u001b[2K     \u001b[90m━━━━━━━━━━━━━━━━━━━━━━━━━━━━━━━━━━━━━━━━\u001b[0m \u001b[32m3.1/3.1 MB\u001b[0m \u001b[31m14.5 MB/s\u001b[0m eta \u001b[36m0:00:00\u001b[0m\n",
            "\u001b[?25hCollecting brotli (from yt-dlp)\n",
            "  Downloading Brotli-1.1.0-cp310-cp310-manylinux_2_5_x86_64.manylinux1_x86_64.manylinux_2_12_x86_64.manylinux2010_x86_64.whl (3.0 MB)\n",
            "\u001b[2K     \u001b[90m━━━━━━━━━━━━━━━━━━━━━━━━━━━━━━━━━━━━━━━━\u001b[0m \u001b[32m3.0/3.0 MB\u001b[0m \u001b[31m32.7 MB/s\u001b[0m eta \u001b[36m0:00:00\u001b[0m\n",
            "\u001b[?25hRequirement already satisfied: certifi in /usr/local/lib/python3.10/dist-packages (from yt-dlp) (2024.6.2)\n",
            "Collecting mutagen (from yt-dlp)\n",
            "  Downloading mutagen-1.47.0-py3-none-any.whl (194 kB)\n",
            "\u001b[2K     \u001b[90m━━━━━━━━━━━━━━━━━━━━━━━━━━━━━━━━━━━━━━━━\u001b[0m \u001b[32m194.4/194.4 kB\u001b[0m \u001b[31m29.1 MB/s\u001b[0m eta \u001b[36m0:00:00\u001b[0m\n",
            "\u001b[?25hCollecting pycryptodomex (from yt-dlp)\n",
            "  Downloading pycryptodomex-3.20.0-cp35-abi3-manylinux_2_17_x86_64.manylinux2014_x86_64.whl (2.1 MB)\n",
            "\u001b[2K     \u001b[90m━━━━━━━━━━━━━━━━━━━━━━━━━━━━━━━━━━━━━━━━\u001b[0m \u001b[32m2.1/2.1 MB\u001b[0m \u001b[31m41.1 MB/s\u001b[0m eta \u001b[36m0:00:00\u001b[0m\n",
            "\u001b[?25hRequirement already satisfied: requests<3,>=2.31.0 in /usr/local/lib/python3.10/dist-packages (from yt-dlp) (2.31.0)\n",
            "Requirement already satisfied: urllib3<3,>=1.26.17 in /usr/local/lib/python3.10/dist-packages (from yt-dlp) (2.0.7)\n",
            "Collecting websockets>=12.0 (from yt-dlp)\n",
            "  Downloading websockets-12.0-cp310-cp310-manylinux_2_5_x86_64.manylinux1_x86_64.manylinux_2_17_x86_64.manylinux2014_x86_64.whl (130 kB)\n",
            "\u001b[2K     \u001b[90m━━━━━━━━━━━━━━━━━━━━━━━━━━━━━━━━━━━━━━━━\u001b[0m \u001b[32m130.2/130.2 kB\u001b[0m \u001b[31m21.1 MB/s\u001b[0m eta \u001b[36m0:00:00\u001b[0m\n",
            "\u001b[?25hRequirement already satisfied: charset-normalizer<4,>=2 in /usr/local/lib/python3.10/dist-packages (from requests<3,>=2.31.0->yt-dlp) (3.3.2)\n",
            "Requirement already satisfied: idna<4,>=2.5 in /usr/local/lib/python3.10/dist-packages (from requests<3,>=2.31.0->yt-dlp) (3.7)\n",
            "Installing collected packages: brotli, websockets, pycryptodomex, mutagen, yt-dlp\n",
            "Successfully installed brotli-1.1.0 mutagen-1.47.0 pycryptodomex-3.20.0 websockets-12.0 yt-dlp-2024.5.27\n"
          ]
        }
      ],
      "source": [
        "!sudo apt-get update\n",
        "!sudo curl -L https://yt-dl.org/downloads/latest/youtube-dl -o /usr/local/bin/youtube-dl\n",
        "!sudo chmod a+rx /usr/local/bin/youtube-dl\n",
        "!python3 -m pip install -U yt-dlp #youtube-dl has not been updated for some years and\n",
        "                                  #does not work anymore, so we use an alternative"
      ]
    },
    {
      "cell_type": "code",
      "execution_count": null,
      "metadata": {
        "colab": {
          "base_uri": "https://localhost:8080/"
        },
        "id": "ywAASVUbPAGs",
        "outputId": "fd982e41-666a-4925-c376-9a74703c483e"
      },
      "outputs": [
        {
          "name": "stdout",
          "output_type": "stream",
          "text": [
            "Collecting pytube\n",
            "  Downloading pytube-15.0.0-py3-none-any.whl (57 kB)\n",
            "\u001b[?25l     \u001b[90m━━━━━━━━━━━━━━━━━━━━━━━━━━━━━━━━━━━━━━━━\u001b[0m \u001b[32m0.0/57.6 kB\u001b[0m \u001b[31m?\u001b[0m eta \u001b[36m-:--:--\u001b[0m\r\u001b[2K     \u001b[90m━━━━━━━━━━━━━━━━━━━━━━━━━━━━━━━━━━━━━━━━\u001b[0m \u001b[32m57.6/57.6 kB\u001b[0m \u001b[31m3.0 MB/s\u001b[0m eta \u001b[36m0:00:00\u001b[0m\n",
            "\u001b[?25hCollecting pydub\n",
            "  Downloading pydub-0.25.1-py2.py3-none-any.whl (32 kB)\n",
            "Installing collected packages: pydub, pytube\n",
            "Successfully installed pydub-0.25.1 pytube-15.0.0\n"
          ]
        }
      ],
      "source": [
        "# Step 1: Install the necessary libraries\n",
        "!pip install pytube pydub\n",
        "\n",
        "# Step 2: Import the libraries\n",
        "from pytube import YouTube\n",
        "from pydub import AudioSegment\n",
        "import os\n",
        "\n",
        "def download_youtube(url):\n",
        "    # command = f'youtube-dl --extract-audio --audio-format wav --output temp.wav --postprocessor-args \"-ar 8000\" ' + url + \" --quiet\"\n",
        "    command = f'yt-dlp -x --audio-format wav --audio-quality 0 --output temp.wav --postprocessor-args \"-ar 8000 -ac 1\" ' + url + \" --quiet\"\n",
        "    os.system(command)\n"
      ]
    },
    {
      "cell_type": "markdown",
      "metadata": {
        "id": "XTwYCvuMO6Sq"
      },
      "source": [
        "Functions from youtube.py to download the music of a youtube video."
      ]
    },
    {
      "cell_type": "code",
      "execution_count": null,
      "metadata": {
        "id": "H4gUBrhyYPdU"
      },
      "outputs": [],
      "source": [
        "import os\n",
        "import librosa\n",
        "import numpy as np\n",
        "\n",
        "window_length = (50 * 1e-3)\n",
        "hop_length = (50 * 1e-3)\n",
        "mel_time_size = 21\n",
        "\n",
        "def load_wav(filename):\n",
        "    \"\"\"Rea audio file and return audio signal and sampling frequency\"\"\"\n",
        "    if not os.path.exists(filename):\n",
        "        raise FileNotFoundError\n",
        "    # Load file using librosa\n",
        "    x, fs = librosa.load(filename, sr=None)\n",
        "    return x, fs\n",
        "\n",
        "\n",
        "def melspectrogram(x=None, fs=None, n_fft=None, hop_length=None,\n",
        "                   fuse=False):\n",
        "    \"\"\"Returns a mel spectrogram.\"\"\"\n",
        "\n",
        "    if x is None:\n",
        "        return None\n",
        "    # Set some values\n",
        "    if n_fft is None:\n",
        "        n_fft = int(window_length * fs)\n",
        "    if hop_length is None:\n",
        "        hop_length = int(hop_length * fs)\n",
        "    # Get spectrogram\n",
        "    spectrogram = librosa.feature.melspectrogram(y=x, sr=fs, n_fft=n_fft,\n",
        "                                                 hop_length=hop_length)\n",
        "    # Convert to MEL-Scale\n",
        "    spectrogram_dB = librosa.power_to_db(spectrogram, ref=np.max)  # (n_mel,t)\n",
        "\n",
        "    if fuse:\n",
        "        chroma = librosa.feature.chroma_stft(y=x, sr=fs, n_fft=n_fft,\n",
        "                                             hop_length=hop_length)\n",
        "        chroma_dB = librosa.power_to_db(chroma)\n",
        "        out = np.concatenate((spectrogram_dB.T, chroma_dB.T), axis=1)\n",
        "    else:\n",
        "        # Transpose to return (time,n_mel)\n",
        "        out = spectrogram_dB.T\n",
        "    return out\n",
        "\n",
        "\n",
        "def get_melgrams(file):\n",
        "    signal, fs = load_wav(file)\n",
        "\n",
        "    segment_length = int((mel_time_size - 1) * window_length * fs)\n",
        "    sequence_length = signal.shape[0]\n",
        "    progress = 0\n",
        "    segments = []\n",
        "    while progress < sequence_length:\n",
        "        if progress + segment_length > sequence_length:\n",
        "            fill_data = sequence_length - progress\n",
        "            empty_data = segment_length - fill_data\n",
        "            feature = melspectrogram(\n",
        "                np.pad(signal[progress:], (0, empty_data), 'constant'),\n",
        "                fs=fs, n_fft=int(window_length * fs), hop_length=int(hop_length * fs))\n",
        "            segments.append(feature)\n",
        "        else:\n",
        "            feature = melspectrogram(\n",
        "                signal[progress:progress + segment_length],\n",
        "                fs=fs, n_fft=int(window_length * fs), hop_length=int(hop_length * fs))\n",
        "\n",
        "            segments.append(feature)\n",
        "        progress += segment_length\n",
        "\n",
        "    return segments\n",
        "\n",
        "\n",
        "def youtube_to_melgram(url, name, kind):\n",
        "    download_youtube(url)\n",
        "    melgrams = get_melgrams(\"temp.wav\")\n",
        "    np.save(kind+\"_\"+name+\"_melgrams.npy\", melgrams)\n",
        "    os.remove(\"temp.wav\")"
      ]
    },
    {
      "cell_type": "markdown",
      "metadata": {
        "id": "ZJ6JQS3cO6Sq"
      },
      "source": [
        "Κατεβάζουμε μουσική απο το youtube για να τα χρησιμοποιήουμε στις προβλέψεις μας."
      ]
    },
    {
      "cell_type": "code",
      "execution_count": null,
      "metadata": {
        "id": "E0_bFHv4ZEbg"
      },
      "outputs": [],
      "source": [
        "blues_urls = {\n",
        "    \"BBKing_HowBlueCanYouGet\":\"https://www.youtube.com/watch?v=l45f28PzfCI\",\n",
        "    \"BBKing_TheThrillIsGone\": \"https://www.youtube.com/watch?v=kpC69qIe02E\",\n",
        "}\n",
        "\n",
        "classical_urls = {\n",
        "    \"Chopin_Nocturne9\":\"https://www.youtube.com/watch?v=9E6b3swbnWg\",\n",
        "\n",
        "}\n",
        "\n",
        "hiphop_urls = {\n",
        "    \"Madonna_HungUp\":\"https://www.youtube.com/watch?v=EDwb9jOVRtU\",\n",
        "    \"50cent_InDaClub\":\"https://www.youtube.com/watch?v=5qm8PH4xAss\",\n",
        "}\n",
        "\n",
        "rock_urls = {\n",
        "    \"Placebo_EveryYouEveryMe\" : \"https://www.youtube.com/watch?v=OMaycNcPsHI\",\n",
        "}\n",
        "\n",
        "for key in blues_urls:\n",
        "    youtube_to_melgram(blues_urls[key], key, \"blues\")\n",
        "\n",
        "for key in classical_urls:\n",
        "    youtube_to_melgram(classical_urls[key], key, \"classical\")\n",
        "\n",
        "for key in hiphop_urls:\n",
        "    youtube_to_melgram(hiphop_urls[key], key, \"hiphop\")\n",
        "\n",
        "for key in rock_urls:\n",
        "    youtube_to_melgram(rock_urls[key], key, \"rock\")"
      ]
    },
    {
      "cell_type": "markdown",
      "metadata": {
        "id": "XJf7DRtfkuw9"
      },
      "source": [
        "Εκπαιδεύουμε ένα μοντέλο με τα καλύτερα optimizations που βρήκαμε και να το χρησιμοποιήσουμε αργότερα στην μουσική απο το youtube"
      ]
    },
    {
      "cell_type": "code",
      "execution_count": null,
      "metadata": {
        "colab": {
          "base_uri": "https://localhost:8080/"
        },
        "id": "SbK58UV0aWuM",
        "outputId": "ca04fd05-d6fa-4995-ac27-41209a6b4250"
      },
      "outputs": [
        {
          "name": "stdout",
          "output_type": "stream",
          "text": [
            "Done!\n",
            "\n",
            "----Evaluation:----\n",
            "\n",
            "Test Error: \n",
            " Accuracy: 77.6%, Avg loss: 0.041299, macro F1 score: 78.11327531506484%, \n",
            "confusion matrix: \n",
            "[[240  20  39  25]\n",
            " [  8 288   0   1]\n",
            " [ 55   4 284  13]\n",
            " [103  17  23 256]] \n",
            "\n"
          ]
        }
      ],
      "source": [
        "device = torch.device('cuda' if torch.cuda.is_available() else 'cpu')\n",
        "num_epochs=30\n",
        "dropout=0.5\n",
        "weight_decay=0.00001\n",
        "\n",
        "set_seed(42)\n",
        "train_dataloader = DataLoader(train, batch_size=16, shuffle=True)\n",
        "test_dataloader = DataLoader(test, batch_size=16, shuffle=False)\n",
        "val_dataloader = DataLoader(val, batch_size=16, shuffle=True)\n",
        "\n",
        "\n",
        "model = Convolutional_Neural_Network(dropout).to(device)  ##assing model to device\n",
        "\n",
        "optimizer = optimizer = torch.optim.Adagrad(model.parameters(), lr=learning_rate,weight_decay=weight_decay)\n",
        "\n",
        "model = train_loop(num_epochs,train_dataloader, model, loss_fn, optimizer,device, validation_check=True,best_name='best_cnn_model')\n",
        "model = Convolutional_Neural_Network(dropout)\n",
        "model.load_state_dict(torch.load('best_cnn_model'))\n",
        "model = model.to(device)\n",
        "(_,_,test_loss, correct, f1, conf) = test_loop(test_dataloader, model, loss_fn,device)\n",
        "\n",
        "# Print results\n",
        "print(\"\\n----Evaluation:----\\n\")\n",
        "print(f\"Test Error: \\n Accuracy: {(100*correct):>0.1f}%, Avg loss: {test_loss:>8f}, macro F1 score: {f1 * 100}%, \\nconfusion matrix: \\n{conf} \\n\")\n"
      ]
    },
    {
      "cell_type": "markdown",
      "metadata": {
        "id": "jediAcg_O6Ss"
      },
      "source": [
        "Τώρα θα προσπαθήσουμε να προβλέψουμε την τάξη για καθένα από τα 6 τραγούδια που λήφθηκαν από το YouTube."
      ]
    },
    {
      "cell_type": "code",
      "execution_count": null,
      "metadata": {
        "id": "1sP2VpoaitZo"
      },
      "outputs": [],
      "source": [
        "def plot(title, predictions):\n",
        "  x = range(0, len(predictions))\n",
        "  plt.figure(figsize=(10, 5))\n",
        "  ylabels = [ 'Blues','Classic', 'Hiphop', 'Rock']\n",
        "  plt.yticks(range(0, 4), ylabels)\n",
        "  plt.plot(x, predictions, \"mo\", markersize=5)\n",
        "  plt.title(title)\n",
        "  plt.show()"
      ]
    },
    {
      "cell_type": "code",
      "execution_count": null,
      "metadata": {
        "colab": {
          "base_uri": "https://localhost:8080/",
          "height": 1000
        },
        "id": "nM3f70QJeU5k",
        "outputId": "ccc78457-fbba-43c1-d053-a55ab54a1044"
      },
      "outputs": [
        {
          "name": "stdout",
          "output_type": "stream",
          "text": [
            "\n",
            "----Evaluation:----\n",
            "\n",
            "Test Error: \n",
            " Accuracy: 58.5%, Avg loss: 0.070669, macro F1 score: 18.4549356223176%, \n",
            "confusion matrix: \n",
            "[[172  51  41  30]\n",
            " [  0   0   0   0]\n",
            " [  0   0   0   0]\n",
            " [  0   0   0   0]] \n",
            "\n"
          ]
        },
        {
          "data": {
            "image/png": "[encoded data removed]",
            "text/plain": [
              "<Figure size 1000x500 with 1 Axes>"
            ]
          },
          "metadata": {},
          "output_type": "display_data"
        },
        {
          "name": "stdout",
          "output_type": "stream",
          "text": [
            "\n",
            "----Evaluation:----\n",
            "\n",
            "Test Error: \n",
            " Accuracy: 80.9%, Avg loss: 0.050920, macro F1 score: 22.36394557823129%, \n",
            "confusion matrix: \n",
            "[[263  22   7  33]\n",
            " [  0   0   0   0]\n",
            " [  0   0   0   0]\n",
            " [  0   0   0   0]] \n",
            "\n"
          ]
        },
        {
          "data": {
            "image/png": "[encoded data removed]",
            "text/plain": [
              "<Figure size 1000x500 with 1 Axes>"
            ]
          },
          "metadata": {},
          "output_type": "display_data"
        }
      ],
      "source": [
        "for song_title in blues_urls:\n",
        "    song = np.load(\"blues_\"+song_title+\"_melgrams.npy\")\n",
        "    song_labels = np.full(len(song), 0)\n",
        "    song_dataset = TensorDataset(torch.tensor(song), torch.tensor(song_labels))\n",
        "    song_dataloader = DataLoader(dataset=song_dataset, batch_size=16, shuffle=False)\n",
        "\n",
        "    (true,pred,test_loss, correct, f1, conf) = test_loop(song_dataloader, new_model, loss_fn,device)\n",
        "    # Print results\n",
        "    print(\"\\n----Evaluation:----\\n\")\n",
        "    print(f\"Test Error: \\n Accuracy: {(100*correct):>0.1f}%, Avg loss: {test_loss:>8f}, macro F1 score: {f1 * 100}%, \\nconfusion matrix: \\n{conf} \\n\")\n",
        "    plot(song_title, pred)"
      ]
    },
    {
      "cell_type": "markdown",
      "source": [
        "Ξεκινόντας με 2 τραγούδια στην κατηγορία Blues, παρατηρούμε οτι το μοντέλο μας έχει προβλέψει με επιτυχία την κατηγορία και των 2 τραγουδιών με 172/313 και 263/325."
      ],
      "metadata": {
        "id": "Dh8WJQ7jPpIY"
      }
    },
    {
      "cell_type": "code",
      "execution_count": null,
      "metadata": {
        "colab": {
          "base_uri": "https://localhost:8080/",
          "height": 659
        },
        "id": "7k8POR6vaBrl",
        "outputId": "0a3eb791-46d4-4e08-b48d-6f48ba8d85dc"
      },
      "outputs": [
        {
          "name": "stdout",
          "output_type": "stream",
          "text": [
            "\n",
            "----Evaluation:----\n",
            "\n",
            "Test Error: \n",
            " Accuracy: 99.3%, Avg loss: 0.003676, macro F1 score: 33.209417596034704%, \n",
            "confusion matrix: \n",
            "[[  0   0   0   0]\n",
            " [  1 268   0   1]\n",
            " [  0   0   0   0]\n",
            " [  0   0   0   0]] \n",
            "\n"
          ]
        },
        {
          "data": {
            "image/png": "[encoded data removed]",
            "text/plain": [
              "<Figure size 1000x500 with 1 Axes>"
            ]
          },
          "metadata": {},
          "output_type": "display_data"
        }
      ],
      "source": [
        "for song_title in classical_urls:\n",
        "    song = np.load(\"classical_\"+song_title+\"_melgrams.npy\")\n",
        "    song_labels = np.full(len(song), 1)\n",
        "    song_dataset = TensorDataset(torch.tensor(song), torch.tensor(song_labels))\n",
        "    song_dataloader = DataLoader(dataset=song_dataset, batch_size=16, shuffle=False)\n",
        "\n",
        "    (true,pred,test_loss, correct, f1, conf) = test_loop(song_dataloader, new_model, loss_fn,device)\n",
        "    # Print results\n",
        "    print(\"\\n----Evaluation:----\\n\")\n",
        "    print(f\"Test Error: \\n Accuracy: {(100*correct):>0.1f}%, Avg loss: {test_loss:>8f}, macro F1 score: {f1 * 100}%, \\nconfusion matrix: \\n{conf} \\n\")\n",
        "    plot(song_title, pred)"
      ]
    },
    {
      "cell_type": "markdown",
      "source": [
        "Συνεχίζουμε με ενα κλασσικο τραγούδι και εδώ βλέπουμε τέλειο ποσοστό επιτυχίας 268/270, και είναι λογικό καθώς το συγκεκριμένο τραγούδι έχει καθαρούς ήχους απο πιάνο, κάνοντας πολυ εύκολο να προβλεθεί."
      ],
      "metadata": {
        "id": "cBLZGUncQXkC"
      }
    },
    {
      "cell_type": "code",
      "execution_count": null,
      "metadata": {
        "colab": {
          "base_uri": "https://localhost:8080/",
          "height": 1000
        },
        "id": "CGgiGbAYaKxC",
        "outputId": "782846b7-c14f-47ff-9581-466e281c50b5"
      },
      "outputs": [
        {
          "name": "stdout",
          "output_type": "stream",
          "text": [
            "\n",
            "----Evaluation:----\n",
            "\n",
            "Test Error: \n",
            " Accuracy: 27.2%, Avg loss: 0.093056, macro F1 score: 10.705882352941176%, \n",
            "confusion matrix: \n",
            "[[  0   0   0   0]\n",
            " [  0   0   0   0]\n",
            " [ 73  47  91 123]\n",
            " [  0   0   0   0]] \n",
            "\n"
          ]
        },
        {
          "data": {
            "image/png": "[encoded data removed]",
            "text/plain": [
              "<Figure size 1000x500 with 1 Axes>"
            ]
          },
          "metadata": {},
          "output_type": "display_data"
        },
        {
          "name": "stdout",
          "output_type": "stream",
          "text": [
            "\n",
            "----Evaluation:----\n",
            "\n",
            "Test Error: \n",
            " Accuracy: 99.2%, Avg loss: 0.017017, macro F1 score: 49.797570850202426%, \n",
            "confusion matrix: \n",
            "[[  0   0   0   0]\n",
            " [  0   0   0   0]\n",
            " [  2   0 246   0]\n",
            " [  0   0   0   0]] \n",
            "\n"
          ]
        },
        {
          "data": {
            "image/png": "[encoded data removed]",
            "text/plain": [
              "<Figure size 1000x500 with 1 Axes>"
            ]
          },
          "metadata": {},
          "output_type": "display_data"
        }
      ],
      "source": [
        "for song_title in hiphop_urls:\n",
        "    song = np.load(\"hiphop_\"+song_title+\"_melgrams.npy\")\n",
        "    song_labels = np.full(len(song), 2)\n",
        "    song_dataset = TensorDataset(torch.tensor(song), torch.tensor(song_labels))\n",
        "    song_dataloader = DataLoader(dataset=song_dataset, batch_size=16, shuffle=False)\n",
        "\n",
        "    (true,pred,test_loss, correct, f1, conf) = test_loop(song_dataloader, new_model, loss_fn,device)\n",
        "    # Print results\n",
        "    print(\"\\n----Evaluation:----\\n\")\n",
        "    print(f\"Test Error: \\n Accuracy: {(100*correct):>0.1f}%, Avg loss: {test_loss:>8f}, macro F1 score: {f1 * 100}%, \\nconfusion matrix: \\n{conf} \\n\")\n",
        "    plot(song_title, pred)"
      ]
    },
    {
      "cell_type": "markdown",
      "source": [
        "Για την κατηγορία hip-hop, έχουμε χρησιμοποιήσει 2 τραγούδια και αυτό γιατί το 1ο είναι κυρίως pop.Βλέπουμε πως το μοντέλο δεν έχει κάνει τέλεια πρόβλεψη ωστόσο στο 2ο τραγούδι που ειναι καθαρά hip-hop,η πρόβλεψη ειναι τέλεια με 246/248."
      ],
      "metadata": {
        "id": "xhoxlmLUQ1IK"
      }
    },
    {
      "cell_type": "code",
      "execution_count": null,
      "metadata": {
        "colab": {
          "base_uri": "https://localhost:8080/",
          "height": 659
        },
        "id": "paIWKRHRaTbs",
        "outputId": "dee6809c-cf42-402e-e8e2-24f7358b6ed3"
      },
      "outputs": [
        {
          "name": "stdout",
          "output_type": "stream",
          "text": [
            "\n",
            "----Evaluation:----\n",
            "\n",
            "Test Error: \n",
            " Accuracy: 89.8%, Avg loss: 0.037546, macro F1 score: 23.65853658536585%, \n",
            "confusion matrix: \n",
            "[[  0   0   0   0]\n",
            " [  0   0   0   0]\n",
            " [  0   0   0   0]\n",
            " [  6  14   2 194]] \n",
            "\n"
          ]
        },
        {
          "data": {
            "image/png": "[encoded data removed]",
            "text/plain": [
              "<Figure size 1000x500 with 1 Axes>"
            ]
          },
          "metadata": {},
          "output_type": "display_data"
        }
      ],
      "source": [
        "for song_title in rock_urls:\n",
        "    song = np.load(\"rock_\"+song_title+\"_melgrams.npy\")\n",
        "    song_labels = np.full(len(song), 3)\n",
        "    song_dataset = TensorDataset(torch.tensor(song), torch.tensor(song_labels))\n",
        "    song_dataloader = DataLoader(dataset=song_dataset, batch_size=16, shuffle=False)\n",
        "\n",
        "    (true,pred,test_loss, correct, f1, conf) = test_loop(song_dataloader, new_model, loss_fn,device)\n",
        "    # Print results\n",
        "    print(\"\\n----Evaluation:----\\n\")\n",
        "    print(f\"Test Error: \\n Accuracy: {(100*correct):>0.1f}%, Avg loss: {test_loss:>8f}, macro F1 score: {f1 * 100}%, \\nconfusion matrix: \\n{conf} \\n\")\n",
        "    plot(song_title, pred)"
      ]
    },
    {
      "cell_type": "markdown",
      "source": [
        "Τέλος βλέπουμε πως το μοντέλο μας ανταποκρίνεται πολύ καλα και στο rock τραγουδι προβλέποντας το σωστά, και έτσι καταλήγουμε στο συμπέρασμα πως το μοντέλο έχει προβλέψει σωστά ολα τα τραγούδια με μέσο όρο accuracy=75% το οποίο ειναι πολύ κοντάς σε αυτό που βρήκαμε χρησιμοποιόντας το test dataset.\n",
        "\n",
        "Ωστόσο πρέπει να σημειωθεί πως η ακρίβεια για ένα συγκεκριμένο τραγούδι δεν χρειάζεται να είναι >= 50% προκειμένου να ταξινομηθεί το τραγούδι σε μια συγκεκριμένη κατηγορία, αφού κατατάσσουμε το τραγούδι στην κατηγορία με τον μεγαλύτερο αριθμό προβλεπόμενων περιπτώσεων."
      ],
      "metadata": {
        "id": "JQpH4bYoRbbi"
      }
    }
  ],
  "metadata": {
    "accelerator": "GPU",
    "colab": {
      "gpuType": "T4",
      "provenance": []
    },
    "kernelspec": {
      "display_name": "Python 3",
      "name": "python3"
    },
    "language_info": {
      "name": "python"
    }
  },
  "nbformat": 4,
  "nbformat_minor": 0
}
